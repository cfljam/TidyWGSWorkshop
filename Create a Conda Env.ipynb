{
 "cells": [
  {
   "cell_type": "markdown",
   "metadata": {
    "slideshow": {
     "slide_type": "slide"
    }
   },
   "source": [
    "# Create a Conda Env to Run this Demo\n",
    "\n",
    "http://conda.pydata.org/docs/index.html\n",
    "\n",
    "http://conda.pydata.org/docs/_downloads/conda-cheatsheet.pdf\n",
    "\n",
    "Prevously installed miniconda http://conda.pydata.org/miniconda.html with Python 3 default"
   ]
  },
  {
   "cell_type": "markdown",
   "metadata": {
    "slideshow": {
     "slide_type": "slide"
    }
   },
   "source": [
    "## Create a Generic Data Science Env\n",
    "\n",
    "- see https://www.continuum.io/blog/developer/jupyter-and-conda-r\n",
    "- the **-c r** flag means install from the   Anaconda R Repo channel at  https://anaconda.org/r/repo \n",
    "- specify the python version ie 3.5\n",
    "\n",
    ">conda create -y -q  -n TidyWGSDemo -c r r-essentials python=3.5"
   ]
  },
  {
   "cell_type": "markdown",
   "metadata": {
    "slideshow": {
     "slide_type": "slide"
    }
   },
   "source": [
    "### Activate it \n",
    "\n",
    "```\n",
    "source activate TidyWGSDemo\n",
    "```"
   ]
  },
  {
   "cell_type": "code",
   "execution_count": 1,
   "metadata": {
    "collapsed": false
   },
   "outputs": [
    {
     "name": "stdout",
     "output_type": "stream",
     "text": [
      "# conda environments:\n",
      "#\n",
      "TidyWGSDemo              /Users/johnmccallum/miniconda3/envs/TidyWGSDemo\n",
      "TidyWGSDemoPy3.5      *  /Users/johnmccallum/miniconda3/envs/TidyWGSDemoPy3.5\n",
      "root                     /Users/johnmccallum/miniconda3\n",
      "\n"
     ]
    }
   ],
   "source": [
    "conda info -e"
   ]
  },
  {
   "cell_type": "markdown",
   "metadata": {
    "slideshow": {
     "slide_type": "slide"
    }
   },
   "source": [
    "## Install more  packages \n",
    "\n",
    "Its worth adding r and bioconda channels\n",
    "\n",
    "I have previously added in e.g. the r channel with \n",
    "\n",
    "```\n",
    "conda config --add channels r\n",
    "```\n",
    "\n",
    "and it ends up in our .condarc file in our home dir"
   ]
  },
  {
   "cell_type": "code",
   "execution_count": 2,
   "metadata": {
    "collapsed": false
   },
   "outputs": [
    {
     "name": "stdout",
     "output_type": "stream",
     "text": [
      "channels:\n",
      "  - r\n",
      "  - bioconda\n",
      "  - defaults\n"
     ]
    }
   ],
   "source": [
    "cat ~/.condarc"
   ]
  },
  {
   "cell_type": "markdown",
   "metadata": {},
   "source": [
    "install some vcf stuff from Bioconda channel http://bioconda.github.io/"
   ]
  },
  {
   "cell_type": "code",
   "execution_count": 3,
   "metadata": {
    "collapsed": false
   },
   "outputs": [
    {
     "name": "stdout",
     "output_type": "stream",
     "text": [
      "Fetching package metadata ...........\n",
      "Solving package specifications: ..........\n",
      "\n",
      "Package plan for installation in environment /Users/johnmccallum/miniconda3/envs/TidyWGSDemo:\n",
      "\n",
      "The following packages will be downloaded:\n",
      "\n",
      "    package                    |            build\n",
      "    ---------------------------|-----------------\n",
      "    libgcc-4.8.5               |                1         785 KB\n",
      "    perl-threaded-5.22.0       |               10        13.2 MB  bioconda\n",
      "    vcflib-1.0.0_rc0           |                0        17.1 MB  bioconda\n",
      "    perl-vcftools-vcf-0.953    |                3          31 KB  bioconda\n",
      "    vcftools-0.1.14            |                4         530 KB  bioconda\n",
      "    ------------------------------------------------------------\n",
      "                                           Total:        31.6 MB\n",
      "\n",
      "The following NEW packages will be INSTALLED:\n",
      "\n",
      "    libgcc:            4.8.5-1             \n",
      "    perl-threaded:     5.22.0-10   bioconda\n",
      "    perl-vcftools-vcf: 0.953-3     bioconda\n",
      "    vcflib:            1.0.0_rc0-0 bioconda\n",
      "    vcftools:          0.1.14-4    bioconda\n",
      "\n"
     ]
    }
   ],
   "source": [
    "conda install -y -q vcflib vcftools"
   ]
  },
  {
   "cell_type": "markdown",
   "metadata": {
    "slideshow": {
     "slide_type": "slide"
    }
   },
   "source": [
    "## Install some Python Tools using Pip\n",
    "\n",
    "- a gister app for gisting\n",
    "- the notedown app for converting notebooks to markdown and vice versa"
   ]
  },
  {
   "cell_type": "code",
   "execution_count": 4,
   "metadata": {
    "collapsed": false
   },
   "outputs": [
    {
     "name": "stdout",
     "output_type": "stream",
     "text": [
      "Collecting gister\n",
      "  Downloading gister-1.0.23.tar.gz\n",
      "Collecting requests (from gister)\n",
      "  Downloading requests-2.13.0-py2.py3-none-any.whl (584kB)\n",
      "\u001b[K    100% |████████████████████████████████| 593kB 950kB/s ta 0:00:01\n",
      "\u001b[?25hBuilding wheels for collected packages: gister\n",
      "  Running setup.py bdist_wheel for gister ... \u001b[?25l-\b \b\\\b \bdone\n",
      "\u001b[?25h  Stored in directory: /Users/johnmccallum/Library/Caches/pip/wheels/93/6d/18/3a011439a8a68cebf44b1f38902f97964d5a0aca93215d44ef\n",
      "Successfully built gister\n",
      "Installing collected packages: requests, gister\n",
      "Successfully installed gister-1.0.23 requests-2.13.0\n"
     ]
    }
   ],
   "source": [
    "pip install gister"
   ]
  },
  {
   "cell_type": "code",
   "execution_count": 5,
   "metadata": {
    "collapsed": false,
    "slideshow": {
     "slide_type": "slide"
    }
   },
   "outputs": [
    {
     "name": "stdout",
     "output_type": "stream",
     "text": [
      "Collecting notedown\n",
      "  Downloading notedown-1.5.0-py3-none-any.whl\n",
      "Requirement already satisfied: nbconvert in /Users/johnmccallum/miniconda3/envs/TidyWGSDemo/lib/python3.6/site-packages (from notedown)\n",
      "Requirement already satisfied: six in /Users/johnmccallum/miniconda3/envs/TidyWGSDemo/lib/python3.6/site-packages (from notedown)\n",
      "Requirement already satisfied: ipython in /Users/johnmccallum/miniconda3/envs/TidyWGSDemo/lib/python3.6/site-packages (from notedown)\n",
      "Collecting pandoc-attributes (from notedown)\n",
      "  Downloading pandoc-attributes-0.1.7.tar.gz\n",
      "Requirement already satisfied: nbformat in /Users/johnmccallum/miniconda3/envs/TidyWGSDemo/lib/python3.6/site-packages (from notedown)\n",
      "Collecting pandocfilters (from pandoc-attributes->notedown)\n",
      "  Downloading pandocfilters-1.4.1.tar.gz\n",
      "Building wheels for collected packages: pandoc-attributes, pandocfilters\n",
      "  Running setup.py bdist_wheel for pandoc-attributes ... \u001b[?25l-\b \b\\\b \bdone\n",
      "\u001b[?25h  Stored in directory: /Users/johnmccallum/Library/Caches/pip/wheels/d3/17/60/148d680a4e24fc2cfaf823a5fa39e198dbda8116aaeb004a92\n",
      "  Running setup.py bdist_wheel for pandocfilters ... \u001b[?25l-\b \b\\\b \bdone\n",
      "\u001b[?25h  Stored in directory: /Users/johnmccallum/Library/Caches/pip/wheels/d4/01/68/49055c80b9f01ccb49241e73c8019628605064730941d70b56\n",
      "Successfully built pandoc-attributes pandocfilters\n",
      "Installing collected packages: pandocfilters, pandoc-attributes, notedown\n",
      "Successfully installed notedown-1.5.0 pandoc-attributes-0.1.7 pandocfilters-1.4.1\n"
     ]
    }
   ],
   "source": [
    "pip install notedown"
   ]
  },
  {
   "cell_type": "markdown",
   "metadata": {},
   "source": [
    "## Install the Very Cool Reveal Slideshow"
   ]
  },
  {
   "cell_type": "code",
   "execution_count": 7,
   "metadata": {
    "collapsed": false
   },
   "outputs": [
    {
     "name": "stdout",
     "output_type": "stream",
     "text": [
      "Collecting RISE\n",
      "  Downloading rise-4.0.0b1-py2.py3-none-any.whl (359kB)\n",
      "\u001b[K    100% |████████████████████████████████| 368kB 1.4MB/s ta 0:00:01\n",
      "\u001b[?25hRequirement already satisfied: notebook>=4.2 in /Users/johnmccallum/miniconda3/envs/TidyWGSDemo/lib/python3.6/site-packages (from RISE)\n",
      "Installing collected packages: RISE\n",
      "Successfully installed RISE-4.0.0b1\n"
     ]
    }
   ],
   "source": [
    "pip install RISE"
   ]
  },
  {
   "cell_type": "markdown",
   "metadata": {},
   "source": [
    "### Install R Analytics Stuff"
   ]
  },
  {
   "cell_type": "code",
   "execution_count": 9,
   "metadata": {
    "collapsed": false,
    "scrolled": false
   },
   "outputs": [
    {
     "name": "stdout",
     "output_type": "stream",
     "text": [
      "Fetching package metadata ...........\n",
      "Solving package specifications: ..........\n",
      "\n",
      "Package plan for installation in environment /Users/johnmccallum/miniconda3/envs/TidyWGSDemo:\n",
      "\n",
      "The following packages will be downloaded:\n",
      "\n",
      "    package                    |            build\n",
      "    ---------------------------|-----------------\n",
      "    gettext-0.19.8             |                0         3.4 MB  bioconda\n",
      "    jbig-2.1                   |                0          31 KB\n",
      "    jpeg-9b                    |                0         251 KB  bioconda\n",
      "    libffi-3.2.1               |                1          39 KB  bioconda\n",
      "    libiconv-1.14              |                0         1.3 MB\n",
      "    ncurses-5.9                |               10         925 KB\n",
      "    pixman-0.34.0              |                0         1.2 MB\n",
      "    zeromq-4.1.3               |                0         577 KB\n",
      "    curl-7.45.0                |                2         646 KB  bioconda\n",
      "    gsl-2.2.1                  |                0         2.2 MB\n",
      "    libpng-1.6.27              |                0         240 KB\n",
      "    libtiff-4.0.6              |                3         756 KB\n",
      "    libxml2-2.9.4              |                0         1.3 MB\n",
      "    pcre-8.39                  |                1         239 KB\n",
      "    freetype-2.5.5             |                2         738 KB\n",
      "    glib-2.50.2                |                1         2.9 MB\n",
      "    fontconfig-2.12.1          |                3         176 KB\n",
      "    cairo-1.14.8               |                0         572 KB\n",
      "    harfbuzz-0.9.39            |                2         302 KB\n",
      "    pango-1.40.3               |                1         448 KB\n",
      "    r-base-3.3.2               |                1        48.1 MB  r\n",
      "    r-assertthat-0.1           |         r3.3.2_4          47 KB  r\n",
      "    r-backports-1.0.4          |         r3.3.2_0          27 KB  r\n",
      "    r-base64enc-0.1_3          |         r3.3.2_0          27 KB  r\n",
      "    r-bh-1.62.0_1              |         r3.3.2_0         8.9 MB  r\n",
      "    r-bitops-1.0_6             |         r3.3.2_2          24 KB  r\n",
      "    r-boot-1.3_18              |         r3.3.2_0         583 KB  r\n",
      "    r-cluster-2.0.5            |         r3.3.2_0         483 KB  r\n",
      "    r-codetools-0.2_15         |         r3.3.2_0          48 KB  r\n",
      "    r-colorspace-1.3_1         |         r3.3.2_0         416 KB  r\n",
      "    r-crayon-1.3.2             |         r3.3.2_0         699 KB  r\n",
      "    r-curl-2.3                 |         r3.3.2_0         394 KB  r\n",
      "    r-data.table-1.10.0        |         r3.3.2_0         1.1 MB  r\n",
      "    r-dbi-0.5_1                |         r3.3.2_0         364 KB  r\n",
      "    r-dichromat-2.0_0          |         r3.3.2_2         149 KB  r\n",
      "    r-digest-0.6.10            |         r3.3.2_0         118 KB  r\n",
      "    r-foreign-0.8_67           |         r3.3.2_0         229 KB  r\n",
      "    r-formatr-1.4              |         r3.3.2_0          48 KB  r\n",
      "    r-gtable-0.2.0             |         r3.3.2_0          60 KB  r\n",
      "    r-highr-0.6                |         r3.3.2_0          33 KB  r\n",
      "    r-hms-0.3                  |         r3.3.2_0          23 KB  r\n",
      "    r-iterators-1.0.8          |         r3.3.2_0         308 KB  r\n",
      "    r-jsonlite-1.1             |         r3.3.2_0         1.0 MB  r\n",
      "    r-kernsmooth-2.23_15       |         r3.3.2_0          83 KB  r\n",
      "    r-labeling-0.3             |         r3.3.2_2          43 KB  r\n",
      "    r-lattice-0.20_34          |         r3.3.2_0         702 KB  r\n",
      "    r-lazyeval-0.2.0           |         r3.3.2_0         118 KB  r\n",
      "    r-magrittr-1.5             |         r3.3.2_2         158 KB  r\n",
      "    r-maps-3.1.1               |         r3.3.2_0         3.4 MB  r\n",
      "    r-mass-7.3_45              |         r3.3.2_0         1.0 MB  r\n",
      "    r-mime-0.5                 |         r3.3.2_0          27 KB  r\n",
      "    r-mnormt-1.5_5             |         r3.3.2_0          63 KB  r\n",
      "    r-nloptr-1.0.4             |         r3.3.2_2         550 KB  r\n",
      "    r-nnet-7.3_12              |         r3.3.2_0         101 KB  r\n",
      "    r-openssl-0.9.5            |         r3.3.2_0         1.2 MB  r\n",
      "    r-r6-2.2.0                 |         r3.3.2_0         138 KB  r\n",
      "    r-randomforest-4.6_12      |         r3.3.2_0         146 KB  r\n",
      "    r-rcolorbrewer-1.1_2       |         r3.3.2_3          28 KB  r\n",
      "    r-rcpp-0.12.8              |         r3.3.2_0         2.3 MB  r\n",
      "    r-repr-0.10                |         r3.3.2_0          62 KB  r\n",
      "    r-rpart-4.1_10             |         r3.3.2_0         868 KB  r\n",
      "    r-sourcetools-0.1.5        |         r3.3.2_0          62 KB  r\n",
      "    r-sparsem-1.74             |         r3.3.2_0         871 KB  r\n",
      "    r-spatial-7.3_11           |         r3.3.2_0         126 KB  r\n",
      "    r-stringi-1.1.2            |         r3.3.2_0         725 KB  r\n",
      "    r-uuid-0.1_2               |         r3.3.2_0          19 KB  r\n",
      "    r-xtable-1.8_2             |         r3.3.2_0         692 KB  r\n",
      "    r-yaml-2.1.14              |         r3.3.2_0          89 KB  r\n",
      "    r-catools-1.17.1           |         r3.3.2_2         161 KB  r\n",
      "    r-class-7.3_14             |         r3.3.2_0          85 KB  r\n",
      "    r-foreach-1.4.3            |         r3.3.2_0         372 KB  r\n",
      "    r-hexbin-1.27.1            |         r3.3.2_0         737 KB  r\n",
      "    r-htmltools-0.3.5          |         r3.3.2_0         131 KB  r\n",
      "    r-httpuv-1.3.3             |         r3.3.2_0         334 KB  r\n",
      "    r-httr-1.2.1               |         r3.3.2_0         270 KB  r\n",
      "    r-irdisplay-0.4.4          |         r3.3.2_0          26 KB  r\n",
      "    r-markdown-0.7.7           |         r3.3.2_2         109 KB  r\n",
      "    r-matrix-1.2_7.1           |         r3.3.2_0         2.4 MB  r\n",
      "    r-minqa-1.2.4              |         r3.3.2_2         106 KB  r\n",
      "    r-modelmetrics-1.1.0       |         r3.3.2_0          95 KB  r\n",
      "    r-munsell-0.4.3            |         r3.3.2_0         134 KB  r\n",
      "    r-nlme-3.1_128             |         r3.3.2_0         2.0 MB  r\n",
      "    r-pbdzmq-0.2_4             |         r3.3.2_0         355 KB  r\n",
      "    r-plyr-1.8.4               |         r3.3.2_0         750 KB  r\n",
      "    r-psych-1.6.9              |         r3.3.2_0         3.3 MB  r\n",
      "    r-readxl-0.1.1             |         r3.3.2_0         261 KB  r\n",
      "    r-rprojroot-1.1            |         r3.3.2_0          48 KB  r\n",
      "    r-stringr-1.1.0            |         r3.3.2_0         117 KB  r\n",
      "    r-tibble-1.2               |         r3.3.2_0         151 KB  r\n",
      "    r-xml2-1.0.0               |         r3.3.2_0         238 KB  r\n",
      "    r-zoo-1.7_13               |         r3.3.2_0         867 KB  r\n",
      "    r-dplyr-0.5.0              |         r3.3.2_0         1.7 MB  r\n",
      "    r-evaluate-0.10            |         r3.3.2_0          49 KB  r\n",
      "    r-forcats-0.1.1            |         r3.3.2_0         155 KB  r\n",
      "    r-glmnet-2.0_5             |         r3.3.2_0         1.6 MB  r\n",
      "    r-htmlwidgets-0.8          |         r3.3.2_0         731 KB  r\n",
      "    r-lubridate-1.6.0          |         r3.3.2_0         656 KB  r\n",
      "    r-matrixmodels-0.4_1       |         r3.3.2_0         216 KB  r\n",
      "    r-mgcv-1.8_16              |         r3.3.2_0         2.0 MB  r\n",
      "    r-pryr-0.1.2               |         r3.3.2_0         201 KB  r\n",
      "    r-rcppeigen-0.3.2.9.0      |         r3.3.2_0         1.5 MB  r\n",
      "    r-readr-1.0.0              |         r3.3.2_0         556 KB  r\n",
      "    r-reshape2-1.4.2           |         r3.3.2_0         107 KB  r\n",
      "    r-scales-0.4.1             |         r3.3.2_0         219 KB  r\n",
      "    r-selectr-0.3_0            |         r3.3.2_0         163 KB  r\n",
      "    r-shiny-0.14.2             |         r3.3.2_0         2.4 MB  r\n",
      "    r-survival-2.40_1          |         r3.3.2_0         4.8 MB  r\n",
      "    r-xts-0.9_7                |         r3.3.2_2         616 KB  r\n",
      "    r-ggplot2-2.2.0            |         r3.3.2_0         2.7 MB  r\n",
      "    r-haven-1.0.0              |         r3.3.2_0         266 KB  r\n",
      "    r-irkernel-0.7.1           |         r3.3.2_0         112 KB  r\n",
      "    r-knitr-1.15.1             |         r3.3.2_0         835 KB  r\n",
      "    r-lme4-1.1_12              |         r3.3.2_0         4.3 MB  r\n",
      "    r-purrr-0.2.2              |         r3.3.2_0         362 KB  r\n",
      "    r-quantreg-5.29            |         r3.3.2_0         1.8 MB  r\n",
      "    r-recommended-3.3.2        |         r3.3.2_0           2 KB  r\n",
      "    r-rvest-0.3.2              |         r3.3.2_0         837 KB  r\n",
      "    r-tidyr-0.6.0              |         r3.3.2_0         371 KB  r\n",
      "    r-ttr-0.23_1               |         r3.3.2_0         418 KB  r\n",
      "    r-broom-0.4.1              |         r3.3.2_0         1.6 MB  r\n",
      "    r-pbkrtest-0.4_6           |         r3.3.2_0         215 KB  r\n",
      "    r-quantmod-0.4_7           |         r3.3.2_0         482 KB  r\n",
      "    r-rmarkdown-1.2            |         r3.3.2_0         1.8 MB  r\n",
      "    r-car-2.1_4                |         r3.3.2_0         1.4 MB  r\n",
      "    r-gistr-0.3.6              |         r3.3.2_0         1.8 MB  r\n",
      "    r-modelr-0.1.0             |         r3.3.2_0         132 KB  r\n",
      "    r-caret-6.0_73             |         r3.3.2_0         4.7 MB  r\n",
      "    r-rbokeh-0.5.0             |         r3.3.2_0         1.2 MB  r\n",
      "    r-tidyverse-1.0.0          |         r3.3.2_0          23 KB  r\n",
      "    r-essentials-1.5.1         |                0           4 KB  r\n",
      "    ------------------------------------------------------------\n",
      "                                           Total:       150.1 MB\n",
      "\n",
      "The following NEW packages will be INSTALLED:\n",
      "\n",
      "    cairo:          1.14.8-0                   \n",
      "    curl:           7.45.0-2           bioconda\n",
      "    fontconfig:     2.12.1-3                   \n",
      "    freetype:       2.5.5-2                    \n",
      "    gettext:        0.19.8-0           bioconda\n",
      "    glib:           2.50.2-1                   \n",
      "    gsl:            2.2.1-0                    \n",
      "    harfbuzz:       0.9.39-2                   \n",
      "    jbig:           2.1-0                      \n",
      "    jpeg:           9b-0               bioconda\n",
      "    libffi:         3.2.1-1            bioconda\n",
      "    libiconv:       1.14-0                     \n",
      "    libpng:         1.6.27-0                   \n",
      "    libtiff:        4.0.6-3                    \n",
      "    libxml2:        2.9.4-0                    \n",
      "    ncurses:        5.9-10                     \n",
      "    pango:          1.40.3-1                   \n",
      "    pcre:           8.39-1                     \n",
      "    pixman:         0.34.0-0                   \n",
      "    r-assertthat:   0.1-r3.3.2_4       r       \n",
      "    r-backports:    1.0.4-r3.3.2_0     r       \n",
      "    r-base:         3.3.2-1            r       \n",
      "    r-base64enc:    0.1_3-r3.3.2_0     r       \n",
      "    r-bh:           1.62.0_1-r3.3.2_0  r       \n",
      "    r-bitops:       1.0_6-r3.3.2_2     r       \n",
      "    r-boot:         1.3_18-r3.3.2_0    r       \n",
      "    r-broom:        0.4.1-r3.3.2_0     r       \n",
      "    r-car:          2.1_4-r3.3.2_0     r       \n",
      "    r-caret:        6.0_73-r3.3.2_0    r       \n",
      "    r-catools:      1.17.1-r3.3.2_2    r       \n",
      "    r-class:        7.3_14-r3.3.2_0    r       \n",
      "    r-cluster:      2.0.5-r3.3.2_0     r       \n",
      "    r-codetools:    0.2_15-r3.3.2_0    r       \n",
      "    r-colorspace:   1.3_1-r3.3.2_0     r       \n",
      "    r-crayon:       1.3.2-r3.3.2_0     r       \n",
      "    r-curl:         2.3-r3.3.2_0       r       \n",
      "    r-data.table:   1.10.0-r3.3.2_0    r       \n",
      "    r-dbi:          0.5_1-r3.3.2_0     r       \n",
      "    r-dichromat:    2.0_0-r3.3.2_2     r       \n",
      "    r-digest:       0.6.10-r3.3.2_0    r       \n",
      "    r-dplyr:        0.5.0-r3.3.2_0     r       \n",
      "    r-essentials:   1.5.1-0            r       \n",
      "    r-evaluate:     0.10-r3.3.2_0      r       \n",
      "    r-forcats:      0.1.1-r3.3.2_0     r       \n",
      "    r-foreach:      1.4.3-r3.3.2_0     r       \n",
      "    r-foreign:      0.8_67-r3.3.2_0    r       \n",
      "    r-formatr:      1.4-r3.3.2_0       r       \n",
      "    r-ggplot2:      2.2.0-r3.3.2_0     r       \n",
      "    r-gistr:        0.3.6-r3.3.2_0     r       \n",
      "    r-glmnet:       2.0_5-r3.3.2_0     r       \n",
      "    r-gtable:       0.2.0-r3.3.2_0     r       \n",
      "    r-haven:        1.0.0-r3.3.2_0     r       \n",
      "    r-hexbin:       1.27.1-r3.3.2_0    r       \n",
      "    r-highr:        0.6-r3.3.2_0       r       \n",
      "    r-hms:          0.3-r3.3.2_0       r       \n",
      "    r-htmltools:    0.3.5-r3.3.2_0     r       \n",
      "    r-htmlwidgets:  0.8-r3.3.2_0       r       \n",
      "    r-httpuv:       1.3.3-r3.3.2_0     r       \n",
      "    r-httr:         1.2.1-r3.3.2_0     r       \n",
      "    r-irdisplay:    0.4.4-r3.3.2_0     r       \n",
      "    r-irkernel:     0.7.1-r3.3.2_0     r       \n",
      "    r-iterators:    1.0.8-r3.3.2_0     r       \n",
      "    r-jsonlite:     1.1-r3.3.2_0       r       \n",
      "    r-kernsmooth:   2.23_15-r3.3.2_0   r       \n",
      "    r-knitr:        1.15.1-r3.3.2_0    r       \n",
      "    r-labeling:     0.3-r3.3.2_2       r       \n",
      "    r-lattice:      0.20_34-r3.3.2_0   r       \n",
      "    r-lazyeval:     0.2.0-r3.3.2_0     r       \n",
      "    r-lme4:         1.1_12-r3.3.2_0    r       \n",
      "    r-lubridate:    1.6.0-r3.3.2_0     r       \n",
      "    r-magrittr:     1.5-r3.3.2_2       r       \n",
      "    r-maps:         3.1.1-r3.3.2_0     r       \n",
      "    r-markdown:     0.7.7-r3.3.2_2     r       \n",
      "    r-mass:         7.3_45-r3.3.2_0    r       \n",
      "    r-matrix:       1.2_7.1-r3.3.2_0   r       \n",
      "    r-matrixmodels: 0.4_1-r3.3.2_0     r       \n",
      "    r-mgcv:         1.8_16-r3.3.2_0    r       \n",
      "    r-mime:         0.5-r3.3.2_0       r       \n",
      "    r-minqa:        1.2.4-r3.3.2_2     r       \n",
      "    r-mnormt:       1.5_5-r3.3.2_0     r       \n",
      "    r-modelmetrics: 1.1.0-r3.3.2_0     r       \n",
      "    r-modelr:       0.1.0-r3.3.2_0     r       \n",
      "    r-munsell:      0.4.3-r3.3.2_0     r       \n",
      "    r-nlme:         3.1_128-r3.3.2_0   r       \n",
      "    r-nloptr:       1.0.4-r3.3.2_2     r       \n",
      "    r-nnet:         7.3_12-r3.3.2_0    r       \n",
      "    r-openssl:      0.9.5-r3.3.2_0     r       \n",
      "    r-pbdzmq:       0.2_4-r3.3.2_0     r       \n",
      "    r-pbkrtest:     0.4_6-r3.3.2_0     r       \n",
      "    r-plyr:         1.8.4-r3.3.2_0     r       \n",
      "    r-pryr:         0.1.2-r3.3.2_0     r       \n",
      "    r-psych:        1.6.9-r3.3.2_0     r       \n",
      "    r-purrr:        0.2.2-r3.3.2_0     r       \n",
      "    r-quantmod:     0.4_7-r3.3.2_0     r       \n",
      "    r-quantreg:     5.29-r3.3.2_0      r       \n",
      "    r-r6:           2.2.0-r3.3.2_0     r       \n",
      "    r-randomforest: 4.6_12-r3.3.2_0    r       \n",
      "    r-rbokeh:       0.5.0-r3.3.2_0     r       \n",
      "    r-rcolorbrewer: 1.1_2-r3.3.2_3     r       \n",
      "    r-rcpp:         0.12.8-r3.3.2_0    r       \n",
      "    r-rcppeigen:    0.3.2.9.0-r3.3.2_0 r       \n",
      "    r-readr:        1.0.0-r3.3.2_0     r       \n",
      "    r-readxl:       0.1.1-r3.3.2_0     r       \n",
      "    r-recommended:  3.3.2-r3.3.2_0     r       \n",
      "    r-repr:         0.10-r3.3.2_0      r       \n",
      "    r-reshape2:     1.4.2-r3.3.2_0     r       \n",
      "    r-rmarkdown:    1.2-r3.3.2_0       r       \n",
      "    r-rpart:        4.1_10-r3.3.2_0    r       \n",
      "    r-rprojroot:    1.1-r3.3.2_0       r       \n",
      "    r-rvest:        0.3.2-r3.3.2_0     r       \n",
      "    r-scales:       0.4.1-r3.3.2_0     r       \n",
      "    r-selectr:      0.3_0-r3.3.2_0     r       \n",
      "    r-shiny:        0.14.2-r3.3.2_0    r       \n",
      "    r-sourcetools:  0.1.5-r3.3.2_0     r       \n",
      "    r-sparsem:      1.74-r3.3.2_0      r       \n",
      "    r-spatial:      7.3_11-r3.3.2_0    r       \n",
      "    r-stringi:      1.1.2-r3.3.2_0     r       \n",
      "    r-stringr:      1.1.0-r3.3.2_0     r       \n",
      "    r-survival:     2.40_1-r3.3.2_0    r       \n",
      "    r-tibble:       1.2-r3.3.2_0       r       \n",
      "    r-tidyr:        0.6.0-r3.3.2_0     r       \n",
      "    r-tidyverse:    1.0.0-r3.3.2_0     r       \n",
      "    r-ttr:          0.23_1-r3.3.2_0    r       \n",
      "    r-uuid:         0.1_2-r3.3.2_0     r       \n",
      "    r-xml2:         1.0.0-r3.3.2_0     r       \n",
      "    r-xtable:       1.8_2-r3.3.2_0     r       \n",
      "    r-xts:          0.9_7-r3.3.2_2     r       \n",
      "    r-yaml:         2.1.14-r3.3.2_0    r       \n",
      "    r-zoo:          1.7_13-r3.3.2_0    r       \n",
      "    zeromq:         4.1.3-0                    \n",
      "\n",
      "Fetching packages ...\n",
      "gettext-0.19.8 100% |################################| Time: 0:00:03 904.43 kB/s\n",
      "jbig-2.1-0.tar 100% |################################| Time: 0:00:00   1.00 MB/s\n",
      "jpeg-9b-0.tar. 100% |################################| Time: 0:00:01 159.12 kB/s\n",
      "libffi-3.2.1-1 100% |################################| Time: 0:00:01  26.43 kB/s\n",
      "libiconv-1.14- 100% |################################| Time: 0:00:00   3.34 MB/s\n",
      "ncurses-5.9-10 100% |################################| Time: 0:00:00   4.28 MB/s\n",
      "pixman-0.34.0- 100% |################################| Time: 0:00:00   4.53 MB/s\n",
      "zeromq-4.1.3-0 100% |################################| Time: 0:00:00   1.73 MB/s\n",
      "curl-7.45.0-2. 100% |################################| Time: 0:00:01 385.53 kB/s\n",
      "gsl-2.2.1-0.ta 100% |################################| Time: 0:00:00   3.75 MB/s\n",
      "libpng-1.6.27- 100% |################################| Time: 0:00:00   2.38 MB/s\n",
      "libtiff-4.0.6- 100% |################################| Time: 0:00:00   1.97 MB/s\n",
      "libxml2-2.9.4- 100% |################################| Time: 0:00:00   4.38 MB/s\n",
      "pcre-8.39-1.ta 100% |################################| Time: 0:00:00   1.61 MB/s\n",
      "freetype-2.5.5 100% |################################| Time: 0:00:00   3.17 MB/s\n",
      "glib-2.50.2-1. 100% |################################| Time: 0:00:00   4.79 MB/s\n",
      "fontconfig-2.1 100% |################################| Time: 0:00:00   1.55 MB/s\n",
      "cairo-1.14.8-0 100% |################################| Time: 0:00:00   1.67 MB/s\n",
      "harfbuzz-0.9.3 100% |################################| Time: 0:00:00   2.29 MB/s\n",
      "pango-1.40.3-1 100% |################################| Time: 0:00:00   1.81 MB/s\n",
      "r-base-3.3.2-1 100% |################################| Time: 0:00:47   1.05 MB/s\n",
      "r-assertthat-0 100% |################################| Time: 0:00:01  27.98 kB/s\n",
      "r-backports-1. 100% |################################| Time: 0:00:00  63.24 kB/s\n",
      "r-base64enc-0. 100% |################################| Time: 0:00:00  41.97 kB/s\n",
      "r-bh-1.62.0_1- 100% |################################| Time: 0:00:10 883.26 kB/s\n",
      "r-bitops-1.0_6 100% |################################| Time: 0:00:00  39.65 kB/s\n",
      "r-boot-1.3_18- 100% |################################| Time: 0:00:08  70.78 kB/s\n",
      "r-cluster-2.0. 100% |################################| Time: 0:00:01 317.59 kB/s\n",
      "r-codetools-0. 100% |################################| Time: 0:00:00  81.40 kB/s\n",
      "r-colorspace-1 100% |################################| Time: 0:00:01 234.00 kB/s\n",
      "r-crayon-1.3.2 100% |################################| Time: 0:00:01 409.11 kB/s\n",
      "r-curl-2.3-r3. 100% |################################| Time: 0:00:01 232.61 kB/s\n",
      "r-data.table-1 100% |################################| Time: 0:00:02 531.37 kB/s\n",
      "r-dbi-0.5_1-r3 100% |################################| Time: 0:00:01 246.99 kB/s\n",
      "r-dichromat-2. 100% |################################| Time: 0:00:01 104.98 kB/s\n",
      "r-digest-0.6.1 100% |################################| Time: 0:00:03  38.76 kB/s\n",
      "r-foreign-0.8_ 100% |################################| Time: 0:00:01 154.87 kB/s\n",
      "r-formatr-1.4- 100% |################################| Time: 0:00:00  52.73 kB/s\n",
      "r-gtable-0.2.0 100% |################################| Time: 0:00:01  31.69 kB/s\n",
      "r-highr-0.6-r3 100% |################################| Time: 0:00:01  26.26 kB/s\n",
      "r-hms-0.3-r3.3 100% |################################| Time: 0:00:00  54.69 kB/s\n",
      "r-iterators-1. 100% |################################| Time: 0:00:01 176.97 kB/s\n",
      "r-jsonlite-1.1 100% |################################| Time: 0:00:02 496.14 kB/s\n",
      "r-kernsmooth-2 100% |################################| Time: 0:00:01  74.63 kB/s\n",
      "r-labeling-0.3 100% |################################| Time: 0:00:01  29.24 kB/s\n",
      "r-lattice-0.20 100% |################################| Time: 0:00:01 410.94 kB/s\n",
      "r-lazyeval-0.2 100% |################################| Time: 0:00:01  80.26 kB/s\n",
      "r-magrittr-1.5 100% |################################| Time: 0:00:01 113.27 kB/s\n",
      "r-maps-3.1.1-r 100% |################################| Time: 0:00:06 525.72 kB/s\n",
      "r-mass-7.3_45- 100% |################################| Time: 0:00:02 435.55 kB/s\n",
      "r-mime-0.5-r3. 100% |################################| Time: 0:00:00  57.15 kB/s\n",
      "r-mnormt-1.5_5 100% |################################| Time: 0:00:02  23.49 kB/s\n",
      "r-nloptr-1.0.4 100% |################################| Time: 0:00:01 322.78 kB/s\n",
      "r-nnet-7.3_12- 100% |################################| Time: 0:00:00 118.68 kB/s\n",
      "r-openssl-0.9. 100% |################################| Time: 0:00:06 199.88 kB/s\n",
      "r-r6-2.2.0-r3. 100% |################################| Time: 0:00:01 132.09 kB/s\n",
      "r-randomforest 100% |################################| Time: 0:00:01  97.46 kB/s\n",
      "r-rcolorbrewer 100% |################################| Time: 0:00:00  47.30 kB/s\n",
      "r-rcpp-0.12.8- 100% |################################| Time: 0:00:02 829.45 kB/s\n",
      "r-repr-0.10-r3 100% |################################| Time: 0:00:00  72.88 kB/s\n",
      "r-rpart-4.1_10 100% |################################| Time: 0:00:01 454.11 kB/s\n",
      "r-sourcetools- 100% |################################| Time: 0:00:00  92.43 kB/s\n",
      "r-sparsem-1.74 100% |################################| Time: 0:00:07 125.62 kB/s\n",
      "r-spatial-7.3_ 100% |################################| Time: 0:00:01  94.33 kB/s\n",
      "r-stringi-1.1. 100% |################################| Time: 0:00:02 351.19 kB/s\n",
      "r-uuid-0.1_2-r 100% |################################| Time: 0:00:00  44.36 kB/s\n",
      "r-xtable-1.8_2 100% |################################| Time: 0:00:02 349.22 kB/s\n",
      "r-yaml-2.1.14- 100% |################################| Time: 0:00:00 104.89 kB/s\n",
      "r-catools-1.17 100% |################################| Time: 0:00:01 123.85 kB/s\n",
      "r-class-7.3_14 100% |################################| Time: 0:00:00  90.19 kB/s\n",
      "r-foreach-1.4. 100% |################################| Time: 0:00:01 342.86 kB/s\n",
      "r-hexbin-1.27. 100% |################################| Time: 0:00:06 117.22 kB/s\n",
      "r-htmltools-0. 100% |################################| Time: 0:00:03  41.39 kB/s\n",
      "r-httpuv-1.3.3 100% |################################| Time: 0:00:01 228.26 kB/s\n",
      "r-httr-1.2.1-r 100% |################################| Time: 0:00:05  53.59 kB/s\n",
      "r-irdisplay-0. 100% |################################| Time: 0:00:00  43.20 kB/s\n",
      "r-markdown-0.7 100% |################################| Time: 0:00:00 120.58 kB/s\n",
      "r-matrix-1.2_7 100% |################################| Time: 0:00:02 853.28 kB/s\n",
      "r-minqa-1.2.4- 100% |################################| Time: 0:00:01  72.93 kB/s\n",
      "r-modelmetrics 100% |################################| Time: 0:00:01  81.39 kB/s\n",
      "r-munsell-0.4. 100% |################################| Time: 0:00:01 100.58 kB/s\n",
      "r-nlme-3.1_128 100% |################################| Time: 0:00:02 792.78 kB/s\n",
      "r-pbdzmq-0.2_4 100% |################################| Time: 0:00:01 215.27 kB/s\n",
      "r-plyr-1.8.4-r 100% |################################| Time: 0:00:02 312.09 kB/s\n",
      "r-psych-1.6.9- 100% |################################| Time: 0:00:03   1.02 MB/s\n",
      "r-readxl-0.1.1 100% |################################| Time: 0:00:01 174.07 kB/s\n",
      "r-rprojroot-1. 100% |################################| Time: 0:00:00  74.00 kB/s\n",
      "r-stringr-1.1. 100% |################################| Time: 0:00:01  82.89 kB/s\n",
      "r-tibble-1.2-r 100% |################################| Time: 0:00:01 135.72 kB/s\n",
      "r-xml2-1.0.0-r 100% |################################| Time: 0:00:01 162.58 kB/s\n",
      "r-zoo-1.7_13-r 100% |################################| Time: 0:00:02 359.32 kB/s\n",
      "r-dplyr-0.5.0- 100% |################################| Time: 0:00:02 728.80 kB/s\n",
      "r-evaluate-0.1 100% |################################| Time: 0:00:00  76.28 kB/s\n",
      "r-forcats-0.1. 100% |################################| Time: 0:00:01  96.36 kB/s\n",
      "r-glmnet-2.0_5 100% |################################| Time: 0:00:06 234.16 kB/s\n",
      "r-htmlwidgets- 100% |################################| Time: 0:00:01 387.85 kB/s\n",
      "r-lubridate-1. 100% |################################| Time: 0:00:01 347.00 kB/s\n",
      "r-matrixmodels 100% |################################| Time: 0:00:01 186.42 kB/s\n",
      "r-mgcv-1.8_16- 100% |################################| Time: 0:00:02 783.57 kB/s\n",
      "r-pryr-0.1.2-r 100% |################################| Time: 0:00:01 160.27 kB/s\n",
      "r-rcppeigen-0. 100% |################################| Time: 0:00:02 680.47 kB/s\n",
      "r-readr-1.0.0- 100% |################################| Time: 0:00:01 291.32 kB/s\n",
      "r-reshape2-1.4 100% |################################| Time: 0:00:00 124.54 kB/s\n",
      "r-scales-0.4.1 100% |################################| Time: 0:00:01 128.84 kB/s\n",
      "r-selectr-0.3_ 100% |################################| Time: 0:00:01 130.00 kB/s\n",
      "r-shiny-0.14.2 100% |################################| Time: 0:00:02 880.57 kB/s\n",
      "r-survival-2.4 100% |################################| Time: 0:00:03   1.28 MB/s\n",
      "r-xts-0.9_7-r3 100% |################################| Time: 0:00:19  31.54 kB/s\n",
      "r-ggplot2-2.2. 100% |################################| Time: 0:00:08 326.22 kB/s\n",
      "r-haven-1.0.0- 100% |################################| Time: 0:00:01 172.47 kB/s\n",
      "r-irkernel-0.7 100% |################################| Time: 0:00:00 132.64 kB/s\n",
      "r-knitr-1.15.1 100% |################################| Time: 0:00:02 369.69 kB/s\n",
      "r-lme4-1.1_12- 100% |################################| Time: 0:00:04   1.03 MB/s\n",
      "r-purrr-0.2.2- 100% |################################| Time: 0:00:01 244.92 kB/s\n",
      "r-quantreg-5.2 100% |################################| Time: 0:00:02 753.64 kB/s\n",
      "r-recommended- 100% |################################| Time: 0:00:00   1.58 MB/s\n",
      "r-rvest-0.3.2- 100% |################################| Time: 0:00:02 368.53 kB/s\n",
      "r-tidyr-0.6.0- 100% |################################| Time: 0:00:01 222.84 kB/s\n",
      "r-ttr-0.23_1-r 100% |################################| Time: 0:00:01 272.28 kB/s\n",
      "r-broom-0.4.1- 100% |################################| Time: 0:00:07 207.35 kB/s\n",
      "r-pbkrtest-0.4 100% |################################| Time: 0:00:01 131.62 kB/s\n",
      "r-quantmod-0.4 100% |################################| Time: 0:00:01 313.48 kB/s\n",
      "r-rmarkdown-1. 100% |################################| Time: 0:00:02 720.61 kB/s\n",
      "r-car-2.1_4-r3 100% |################################| Time: 0:00:02 610.00 kB/s\n",
      "r-gistr-0.3.6- 100% |################################| Time: 0:00:02 731.49 kB/s\n",
      "r-modelr-0.1.0 100% |################################| Time: 0:00:01 126.00 kB/s\n",
      "r-caret-6.0_73 100% |################################| Time: 0:00:04   1.12 MB/s\n",
      "r-rbokeh-0.5.0 100% |################################| Time: 0:00:02 564.58 kB/s\n",
      "r-tidyverse-1. 100% |################################| Time: 0:00:00  55.32 kB/s\n",
      "r-essentials-1 100% |################################| Time: 0:00:00   4.01 MB/s\n",
      "Extracting packages ...\n",
      "[      COMPLETE      ]|###################################################| 100%\n",
      "Linking packages ...\n",
      "[      COMPLETE      ]|###################################################| 100%\n"
     ]
    }
   ],
   "source": [
    "conda install -y r-essentials"
   ]
  },
  {
   "cell_type": "markdown",
   "metadata": {},
   "source": [
    "### Install the R Kernel\n",
    "\n",
    "https://irkernel.github.io/\n",
    "\n",
    "```\n",
    "install.packages(c('repr', 'IRdisplay', 'evaluate', 'crayon', 'pbdZMQ', 'devtools', 'uuid', 'digest'))\n",
    "devtools::install_github('IRkernel/IRkernel')\n",
    "```\n",
    "\n",
    "from R or "
   ]
  },
  {
   "cell_type": "code",
   "execution_count": 11,
   "metadata": {
    "collapsed": false
   },
   "outputs": [
    {
     "name": "stdout",
     "output_type": "stream",
     "text": [
      "Fetching package metadata ...........\n",
      "Solving package specifications: ..........\n",
      "\n",
      "# All requested packages already installed.\n",
      "# packages in environment at /Users/johnmccallum/miniconda3/envs/TidyWGSDemo:\n",
      "#\n",
      "r-irkernel                0.7.1                  r3.3.2_0    r\n"
     ]
    }
   ],
   "source": [
    "conda install -y r-irkernel"
   ]
  },
  {
   "cell_type": "markdown",
   "metadata": {},
   "source": [
    "## Check Whats in Our Env"
   ]
  },
  {
   "cell_type": "code",
   "execution_count": 10,
   "metadata": {
    "collapsed": false
   },
   "outputs": [
    {
     "name": "stdout",
     "output_type": "stream",
     "text": [
      "# packages in environment at /Users/johnmccallum/miniconda3/envs/TidyWGSDemo:\n",
      "#\n",
      "appnope                   0.1.0                    py36_0  \n",
      "bash_kernel               0.5                       <pip>\n",
      "cairo                     1.14.8                        0  \n",
      "curl                      7.45.0                        2    bioconda\n",
      "decorator                 4.0.11                   py36_0  \n",
      "entrypoints               0.2.2                    py36_0  \n",
      "fontconfig                2.12.1                        3  \n",
      "freetype                  2.5.5                         2  \n",
      "gettext                   0.19.8                        0    bioconda\n",
      "gister                    1.0.23                    <pip>\n",
      "glib                      2.50.2                        1  \n",
      "gsl                       2.2.1                         0  \n",
      "harfbuzz                  0.9.39                        2  \n",
      "icu                       54.1                          0  \n",
      "ipykernel                 4.5.2                    py36_0  \n",
      "ipython                   5.1.0                    py36_1  \n",
      "ipython_genutils          0.1.0                    py36_0  \n",
      "ipywidgets                5.2.2                    py36_1  \n",
      "jbig                      2.1                           0  \n",
      "jinja2                    2.9.4                    py36_0  \n",
      "jpeg                      9b                            0    bioconda\n",
      "jsonschema                2.5.1                    py36_0  \n",
      "jupyter                   1.0.0                    py36_3  \n",
      "jupyter_client            4.4.0                    py36_0  \n",
      "jupyter_console           5.0.0                    py36_0  \n",
      "jupyter_core              4.2.1                    py36_0  \n",
      "libffi                    3.2.1                         1    bioconda\n",
      "libgcc                    4.8.5                         1  \n",
      "libiconv                  1.14                          0  \n",
      "libpng                    1.6.27                        0  \n",
      "libtiff                   4.0.6                         3  \n",
      "libxml2                   2.9.4                         0  \n",
      "markupsafe                0.23                     py36_2  \n",
      "mistune                   0.7.3                    py36_1  \n",
      "nbconvert                 4.2.0                    py36_0  \n",
      "nbformat                  4.2.0                    py36_0  \n",
      "ncurses                   5.9                          10  \n",
      "notebook                  4.3.1                    py36_0  \n",
      "notedown                  1.5.0                     <pip>\n",
      "openssl                   1.0.2k                        0  \n",
      "pandoc-attributes         0.1.7                     <pip>\n",
      "pandocfilters             1.4.1                     <pip>\n",
      "pango                     1.40.3                        1  \n",
      "path.py                   10.0                     py36_0  \n",
      "pcre                      8.39                          1  \n",
      "perl-threaded             5.22.0                       10    bioconda\n",
      "perl-vcftools-vcf         0.953                         3    bioconda\n",
      "pexpect                   4.2.1                    py36_0  \n",
      "pickleshare               0.7.4                    py36_0  \n",
      "pip                       9.0.1                    py36_1  \n",
      "pixman                    0.34.0                        0  \n",
      "prompt_toolkit            1.0.9                    py36_0  \n",
      "ptyprocess                0.5.1                    py36_0  \n",
      "pygments                  2.1.3                    py36_0  \n",
      "pyqt                      5.6.0                    py36_2  \n",
      "python                    3.6.0                         0  \n",
      "pyzmq                     16.0.2                   py36_0  \n",
      "qt                        5.6.2                         0  \n",
      "qtconsole                 4.2.1                    py36_1  \n",
      "r-assertthat              0.1                    r3.3.2_4    r\n",
      "r-backports               1.0.4                  r3.3.2_0    r\n",
      "r-base                    3.3.2                         1    r\n",
      "r-base64enc               0.1_3                  r3.3.2_0    r\n",
      "r-bh                      1.62.0_1               r3.3.2_0    r\n",
      "r-bitops                  1.0_6                  r3.3.2_2    r\n",
      "r-boot                    1.3_18                 r3.3.2_0    r\n",
      "r-broom                   0.4.1                  r3.3.2_0    r\n",
      "r-car                     2.1_4                  r3.3.2_0    r\n",
      "r-caret                   6.0_73                 r3.3.2_0    r\n",
      "r-catools                 1.17.1                 r3.3.2_2    r\n",
      "r-class                   7.3_14                 r3.3.2_0    r\n",
      "r-cluster                 2.0.5                  r3.3.2_0    r\n",
      "r-codetools               0.2_15                 r3.3.2_0    r\n",
      "r-colorspace              1.3_1                  r3.3.2_0    r\n",
      "r-crayon                  1.3.2                  r3.3.2_0    r\n",
      "r-curl                    2.3                    r3.3.2_0    r\n",
      "r-data.table              1.10.0                 r3.3.2_0    r\n",
      "r-dbi                     0.5_1                  r3.3.2_0    r\n",
      "r-dichromat               2.0_0                  r3.3.2_2    r\n",
      "r-digest                  0.6.10                 r3.3.2_0    r\n",
      "r-dplyr                   0.5.0                  r3.3.2_0    r\n",
      "r-essentials              1.5.1                         0    r\n",
      "r-evaluate                0.10                   r3.3.2_0    r\n",
      "r-forcats                 0.1.1                  r3.3.2_0    r\n",
      "r-foreach                 1.4.3                  r3.3.2_0    r\n",
      "r-foreign                 0.8_67                 r3.3.2_0    r\n",
      "r-formatr                 1.4                    r3.3.2_0    r\n",
      "r-ggplot2                 2.2.0                  r3.3.2_0    r\n",
      "r-gistr                   0.3.6                  r3.3.2_0    r\n",
      "r-glmnet                  2.0_5                  r3.3.2_0    r\n",
      "r-gtable                  0.2.0                  r3.3.2_0    r\n",
      "r-haven                   1.0.0                  r3.3.2_0    r\n",
      "r-hexbin                  1.27.1                 r3.3.2_0    r\n",
      "r-highr                   0.6                    r3.3.2_0    r\n",
      "r-hms                     0.3                    r3.3.2_0    r\n",
      "r-htmltools               0.3.5                  r3.3.2_0    r\n",
      "r-htmlwidgets             0.8                    r3.3.2_0    r\n",
      "r-httpuv                  1.3.3                  r3.3.2_0    r\n",
      "r-httr                    1.2.1                  r3.3.2_0    r\n",
      "r-irdisplay               0.4.4                  r3.3.2_0    r\n",
      "r-irkernel                0.7.1                  r3.3.2_0    r\n",
      "r-iterators               1.0.8                  r3.3.2_0    r\n",
      "r-jsonlite                1.1                    r3.3.2_0    r\n",
      "r-kernsmooth              2.23_15                r3.3.2_0    r\n",
      "r-knitr                   1.15.1                 r3.3.2_0    r\n",
      "r-labeling                0.3                    r3.3.2_2    r\n",
      "r-lattice                 0.20_34                r3.3.2_0    r\n",
      "r-lazyeval                0.2.0                  r3.3.2_0    r\n",
      "r-lme4                    1.1_12                 r3.3.2_0    r\n",
      "r-lubridate               1.6.0                  r3.3.2_0    r\n",
      "r-magrittr                1.5                    r3.3.2_2    r\n",
      "r-maps                    3.1.1                  r3.3.2_0    r\n",
      "r-markdown                0.7.7                  r3.3.2_2    r\n",
      "r-mass                    7.3_45                 r3.3.2_0    r\n",
      "r-matrix                  1.2_7.1                r3.3.2_0    r\n",
      "r-matrixmodels            0.4_1                  r3.3.2_0    r\n",
      "r-mgcv                    1.8_16                 r3.3.2_0    r\n",
      "r-mime                    0.5                    r3.3.2_0    r\n",
      "r-minqa                   1.2.4                  r3.3.2_2    r\n",
      "r-mnormt                  1.5_5                  r3.3.2_0    r\n",
      "r-modelmetrics            1.1.0                  r3.3.2_0    r\n",
      "r-modelr                  0.1.0                  r3.3.2_0    r\n",
      "r-munsell                 0.4.3                  r3.3.2_0    r\n",
      "r-nlme                    3.1_128                r3.3.2_0    r\n",
      "r-nloptr                  1.0.4                  r3.3.2_2    r\n",
      "r-nnet                    7.3_12                 r3.3.2_0    r\n",
      "r-openssl                 0.9.5                  r3.3.2_0    r\n",
      "r-pbdzmq                  0.2_4                  r3.3.2_0    r\n",
      "r-pbkrtest                0.4_6                  r3.3.2_0    r\n",
      "r-plyr                    1.8.4                  r3.3.2_0    r\n",
      "r-pryr                    0.1.2                  r3.3.2_0    r\n",
      "r-psych                   1.6.9                  r3.3.2_0    r\n",
      "r-purrr                   0.2.2                  r3.3.2_0    r\n",
      "r-quantmod                0.4_7                  r3.3.2_0    r\n",
      "r-quantreg                5.29                   r3.3.2_0    r\n",
      "r-r6                      2.2.0                  r3.3.2_0    r\n",
      "r-randomforest            4.6_12                 r3.3.2_0    r\n",
      "r-rbokeh                  0.5.0                  r3.3.2_0    r\n",
      "r-rcolorbrewer            1.1_2                  r3.3.2_3    r\n",
      "r-rcpp                    0.12.8                 r3.3.2_0    r\n",
      "r-rcppeigen               0.3.2.9.0              r3.3.2_0    r\n",
      "r-readr                   1.0.0                  r3.3.2_0    r\n",
      "r-readxl                  0.1.1                  r3.3.2_0    r\n",
      "r-recommended             3.3.2                  r3.3.2_0    r\n",
      "r-repr                    0.10                   r3.3.2_0    r\n",
      "r-reshape2                1.4.2                  r3.3.2_0    r\n",
      "r-rmarkdown               1.2                    r3.3.2_0    r\n",
      "r-rpart                   4.1_10                 r3.3.2_0    r\n",
      "r-rprojroot               1.1                    r3.3.2_0    r\n",
      "r-rvest                   0.3.2                  r3.3.2_0    r\n",
      "r-scales                  0.4.1                  r3.3.2_0    r\n",
      "r-selectr                 0.3_0                  r3.3.2_0    r\n",
      "r-shiny                   0.14.2                 r3.3.2_0    r\n",
      "r-sourcetools             0.1.5                  r3.3.2_0    r\n",
      "r-sparsem                 1.74                   r3.3.2_0    r\n",
      "r-spatial                 7.3_11                 r3.3.2_0    r\n",
      "r-stringi                 1.1.2                  r3.3.2_0    r\n",
      "r-stringr                 1.1.0                  r3.3.2_0    r\n",
      "r-survival                2.40_1                 r3.3.2_0    r\n",
      "r-tibble                  1.2                    r3.3.2_0    r\n",
      "r-tidyr                   0.6.0                  r3.3.2_0    r\n",
      "r-tidyverse               1.0.0                  r3.3.2_0    r\n",
      "r-ttr                     0.23_1                 r3.3.2_0    r\n",
      "r-uuid                    0.1_2                  r3.3.2_0    r\n",
      "r-xml2                    1.0.0                  r3.3.2_0    r\n",
      "r-xtable                  1.8_2                  r3.3.2_0    r\n",
      "r-xts                     0.9_7                  r3.3.2_2    r\n",
      "r-yaml                    2.1.14                 r3.3.2_0    r\n",
      "r-zoo                     1.7_13                 r3.3.2_0    r\n",
      "readline                  6.2                           2  \n",
      "requests                  2.13.0                    <pip>\n",
      "rise                      4.0.0b1                   <pip>\n",
      "setuptools                27.2.0                   py36_0  \n",
      "simplegeneric             0.8.1                    py36_1  \n",
      "sip                       4.18                     py36_0  \n",
      "six                       1.10.0                   py36_0  \n",
      "sqlite                    3.13.0                        0  \n",
      "terminado                 0.6                      py36_0  \n",
      "tk                        8.5.18                        0  \n",
      "tornado                   4.4.2                    py36_0  \n",
      "traitlets                 4.3.1                    py36_0  \n",
      "vcflib                    1.0.0_rc0                     0    bioconda\n",
      "vcftools                  0.1.14                        4    bioconda\n",
      "wcwidth                   0.1.7                    py36_0  \n",
      "wheel                     0.29.0                   py36_0  \n",
      "widgetsnbextension        1.2.6                    py36_0  \n",
      "xz                        5.2.2                         1  \n",
      "zeromq                    4.1.3                         0  \n",
      "zlib                      1.2.8                         3  \n"
     ]
    }
   ],
   "source": [
    "conda list"
   ]
  },
  {
   "cell_type": "markdown",
   "metadata": {},
   "source": [
    "## Create Environment Files\n",
    "\n",
    "so we can recreate the env. There seem to be two ways to do this\n",
    "\n",
    "### This way is best for same Os"
   ]
  },
  {
   "cell_type": "code",
   "execution_count": 1,
   "metadata": {
    "collapsed": false
   },
   "outputs": [],
   "source": [
    "conda list --explicit > TidyWGSDemo.requirements.txt"
   ]
  },
  {
   "cell_type": "code",
   "execution_count": 3,
   "metadata": {
    "collapsed": false
   },
   "outputs": [
    {
     "name": "stdout",
     "output_type": "stream",
     "text": [
      "# This file may be used to create an environment using:\n",
      "# $ conda create --name <env> --file <this file>\n",
      "# platform: osx-64\n",
      "@EXPLICIT\n",
      "https://repo.continuum.io/pkgs/free/osx-64/appnope-0.1.0-py35_0.tar.bz2\n",
      "https://conda.anaconda.org/bioconda/osx-64/bwa-0.7.15-0.tar.bz2\n",
      "https://repo.continuum.io/pkgs/free/osx-64/cairo-1.14.8-0.tar.bz2\n",
      "https://conda.anaconda.org/bioconda/osx-64/curl-7.45.0-2.tar.bz2\n",
      "https://repo.continuum.io/pkgs/free/osx-64/decorator-4.0.11-py35_0.tar.bz2\n",
      "https://repo.continuum.io/pkgs/free/osx-64/entrypoints-0.2.2-py35_0.tar.bz2\n",
      "https://repo.continuum.io/pkgs/free/osx-64/fontconfig-2.12.1-3.tar.bz2\n",
      "https://repo.continuum.io/pkgs/free/osx-64/freetype-2.5.5-2.tar.bz2\n",
      "https://conda.anaconda.org/bioconda/osx-64/gettext-0.19.8-0.tar.bz2\n",
      "https://repo.continuum.io/pkgs/free/osx-64/glib-2.50.2-1.tar.bz2\n",
      "https://repo.continuum.io/pkgs/free/osx-64/gsl-2.2.1-0.tar.bz2\n",
      "https://repo.continuum.io/pkgs/free/osx-64/harfbuzz-0.9.39-2.tar.bz2\n",
      "https://repo.continuum.io/pkgs/free/osx-64/icu-54.1-0.tar.bz2\n",
      "https://repo.continuum.io/pkgs/free/osx-64/ipykernel-4.5.2-py35_0.tar.bz2\n",
      "https://repo.continuum.io/pkgs/free/osx-64/ipython-5.1.0-py35_1.tar.bz2\n",
      "https://repo.continuum.io/pkgs/free/osx-64/ipython_genutils-0.1.0-py35_0.tar.bz2\n"
     ]
    }
   ],
   "source": [
    "head -n 20 TidyWGSDemo.requirements.txt"
   ]
  },
  {
   "cell_type": "markdown",
   "metadata": {},
   "source": [
    "### This way is cross-platform"
   ]
  },
  {
   "cell_type": "code",
   "execution_count": 4,
   "metadata": {
    "collapsed": false
   },
   "outputs": [
    {
     "name": "stdout",
     "output_type": "stream",
     "text": [
      "\u001b[31mDEPRECATION: The default format will switch to columns in the future. You can use --format=(legacy|columns) (or define a format=(legacy|columns) in your pip.conf under the [list] section) to disable this warning.\u001b[0m\n"
     ]
    }
   ],
   "source": [
    "conda env export > TidyWGSDemo.environment.yml"
   ]
  },
  {
   "cell_type": "code",
   "execution_count": 5,
   "metadata": {
    "collapsed": false
   },
   "outputs": [
    {
     "name": "stdout",
     "output_type": "stream",
     "text": [
      "name: TidyWGSDemoPy3.5\n",
      "channels: !!python/tuple\n",
      "- r\n",
      "- bioconda\n",
      "- defaults\n",
      "dependencies:\n",
      "- appnope=0.1.0=py35_0\n",
      "- bioconda::bwa=0.7.15=0\n",
      "- bioconda::curl=7.45.0=2\n",
      "- bioconda::gettext=0.19.8=0\n",
      "- bioconda::jpeg=9b=0\n",
      "- bioconda::libffi=3.2.1=1\n",
      "- bioconda::perl-threaded=5.22.0=10\n",
      "- bioconda::perl-vcftools-vcf=0.953=3\n",
      "- bioconda::vcflib=1.0.0_rc0=0\n",
      "- bioconda::vcftools=0.1.14=4\n",
      "- cairo=1.14.8=0\n",
      "- damianavila82::rise=4.0.0b1=py35_0\n",
      "- decorator=4.0.11=py35_0\n",
      "- entrypoints=0.2.2=py35_0\n"
     ]
    }
   ],
   "source": [
    "head -n 20 TidyWGSDemo.environment.yml"
   ]
  },
  {
   "cell_type": "markdown",
   "metadata": {},
   "source": [
    "## Build a Fresh Env from the Requirements File"
   ]
  },
  {
   "cell_type": "code",
   "execution_count": 16,
   "metadata": {
    "collapsed": false
   },
   "outputs": [
    {
     "name": "stdout",
     "output_type": "stream",
     "text": [
      "Using Anaconda Cloud api site https://api.anaconda.org\r\n",
      "Fetching package metadata .................\r\n",
      "Solving package specifications: ..........\r\n",
      "Linking packages ...\r\n",
      "[                    ]|                                                   |   0%\r",
      "[icu                 ]|                                                   |   0%\r",
      "[jpeg                ]|                                                   |   1%\r",
      "[libpng              ]|#                                                  |   3%\r",
      "[perl-threaded       ]|##                                                 |   5%\r",
      "[sqlite              ]|###                                                |   7%\r",
      "[vcflib              ]|####                                               |   8%\r",
      "[yaml                ]|#####                                              |  10%\r",
      "[libtiff             ]|######                                             |  12%\r",
      "[ncurses             ]|#######                                            |  14%\r",
      "[perl-vcftools-vcf   ]|########                                           |  16%\r",
      "[qt                  ]|#########                                          |  17%\r",
      "[decorator           ]|##########                                         |  19%\r",
      "[ipython_genutils    ]|##########                                         |  21%\r",
      "[markupsafe          ]|###########                                        |  23%\r",
      "[path.py             ]|############                                       |  25%\r",
      "[pygments            ]|#############                                      |  26%\r",
      "[pytz                ]|##############                                     |  28%\r",
      "[pyzmq               ]|###############                                    |  30%\r",
      "[requests            ]|################                                   |  32%\r",
      "[simplegeneric       ]|#################                                  |  33%\r",
      "[six                 ]|##################                                 |  35%\r",
      "[vcftools            ]|###################                                |  37%\r",
      "[wheel               ]|####################                               |  39%\r",
      "[jinja2              ]|####################                               |  41%\r",
      "[pickleshare         ]|#####################                              |  42%\r",
      "[prompt_toolkit      ]|######################                             |  44%\r",
      "[python-dateutil     ]|#######################                            |  46%\r",
      "[terminado           ]|########################                           |  48%\r",
      "[anaconda-client     ]|#########################                          |  50%\r",
      "[jupyter_core        ]|##########################                         |  51%\r",
      "[nbformat            ]|###########################                        |  53%\r",
      "[nbconvert           ]|############################                       |  55%\r",
      "[notebook            ]|#############################                      |  57%\r",
      "[widgetsnbextension  ]|##############################                     |  58%\r",
      "[jupyter             ]|##############################                     |  60%\r",
      "[nb_conda_kernels    ]|###############################                    |  62%\r",
      "[_nb_ext_conf        ]|################################                   |  64%\r",
      "[r                   ]|#################################                  |  66%\r",
      "[r-boot              ]|##################################                 |  67%\r",
      "[r-cluster           ]|###################################                |  69%\r",
      "[r-colorspace        ]|####################################               |  71%\r",
      "[r-dichromat         ]|#####################################              |  73%\r",
      "[r-foreign           ]|######################################             |  75%\r",
      "[r-kernsmooth        ]|#######################################            |  76%\r",
      "[r-lattice           ]|########################################           |  78%\r",
      "[r-magrittr          ]|########################################           |  80%\r",
      "[r-nnet              ]|#########################################          |  82%\r",
      "[r-rcolorbrewer      ]|##########################################         |  83%\r",
      "[r-rpart             ]|###########################################        |  85%\r",
      "[r-stringr           ]|############################################       |  87%\r",
      "[r-class             ]|#############################################      |  89%\r",
      "[r-dplyr             ]|##############################################     |  91%\r",
      "[r-munsell           ]|###############################################    |  92%\r",
      "[r-plyr              ]|################################################   |  94%\r",
      "[r-reshape2          ]|#################################################  |  96%\r",
      "[r-ggplot2           ]|################################################## |  98%\r",
      "[      COMPLETE      ]|###################################################| 100%\r",
      "\r\n",
      "Collecting gister==1.0.23\r\n",
      "Requirement already satisfied (use --upgrade to upgrade): ipython-genutils==0.1.0 in /Users/johnmccallum/miniconda3/envs/TidyDemoClone/lib/python3.5/site-packages\r\n",
      "Requirement already satisfied (use --upgrade to upgrade): jupyter-client==4.4.0 in /Users/johnmccallum/miniconda3/envs/TidyDemoClone/lib/python3.5/site-packages\r\n",
      "Requirement already satisfied (use --upgrade to upgrade): jupyter-console==5.0.0 in /Users/johnmccallum/miniconda3/envs/TidyDemoClone/lib/python3.5/site-packages\r\n",
      "Requirement already satisfied (use --upgrade to upgrade): jupyter-core==4.2.0 in /Users/johnmccallum/miniconda3/envs/TidyDemoClone/lib/python3.5/site-packages\r\n",
      "Requirement already satisfied (use --upgrade to upgrade): nb-anacondacloud==1.2.0 in /Users/johnmccallum/miniconda3/envs/TidyDemoClone/lib/python3.5/site-packages\r\n",
      "Requirement already satisfied (use --upgrade to upgrade): nb-conda==2.0.0 in /Users/johnmccallum/miniconda3/envs/TidyDemoClone/lib/python3.5/site-packages\r\n",
      "Requirement already satisfied (use --upgrade to upgrade): nb-conda-kernels==2.0.0 in /Users/johnmccallum/miniconda3/envs/TidyDemoClone/lib/python3.5/site-packages\r\n",
      "Collecting notedown==1.5.0\r\n",
      "  Using cached notedown-1.5.0-py3-none-any.whl\r\n",
      "Collecting pandoc-attributes==0.1.7\r\n",
      "Collecting pandocfilters==1.3.0\r\n",
      "Requirement already satisfied (use --upgrade to upgrade): prompt-toolkit==1.0.3 in /Users/johnmccallum/miniconda3/envs/TidyDemoClone/lib/python3.5/site-packages\r\n",
      "Requirement already satisfied (use --upgrade to upgrade): requests in /Users/johnmccallum/miniconda3/envs/TidyDemoClone/lib/python3.5/site-packages (from gister==1.0.23)\r\n",
      "Requirement already satisfied (use --upgrade to upgrade): anaconda-client in /Users/johnmccallum/miniconda3/envs/TidyDemoClone/lib/python3.5/site-packages (from nb-anacondacloud==1.2.0)\r\n",
      "Requirement already satisfied (use --upgrade to upgrade): ipython in /Users/johnmccallum/miniconda3/envs/TidyDemoClone/lib/python3.5/site-packages (from notedown==1.5.0)\r\n",
      "Requirement already satisfied (use --upgrade to upgrade): six in /Users/johnmccallum/miniconda3/envs/TidyDemoClone/lib/python3.5/site-packages (from notedown==1.5.0)\r\n",
      "Requirement already satisfied (use --upgrade to upgrade): nbformat in /Users/johnmccallum/miniconda3/envs/TidyDemoClone/lib/python3.5/site-packages (from notedown==1.5.0)\r\n",
      "Requirement already satisfied (use --upgrade to upgrade): nbconvert in /Users/johnmccallum/miniconda3/envs/TidyDemoClone/lib/python3.5/site-packages (from notedown==1.5.0)\r\n",
      "Requirement already satisfied (use --upgrade to upgrade): wcwidth in /Users/johnmccallum/miniconda3/envs/TidyDemoClone/lib/python3.5/site-packages (from prompt-toolkit==1.0.3)\r\n",
      "Requirement already satisfied (use --upgrade to upgrade): clyent in /Users/johnmccallum/miniconda3/envs/TidyDemoClone/lib/python3.5/site-packages (from anaconda-client->nb-anacondacloud==1.2.0)\r\n",
      "Requirement already satisfied (use --upgrade to upgrade): pyyaml in /Users/johnmccallum/miniconda3/envs/TidyDemoClone/lib/python3.5/site-packages (from anaconda-client->nb-anacondacloud==1.2.0)\r\n",
      "Requirement already satisfied (use --upgrade to upgrade): python-dateutil in /Users/johnmccallum/miniconda3/envs/TidyDemoClone/lib/python3.5/site-packages/python_dateutil-2.3-py3.5.egg (from anaconda-client->nb-anacondacloud==1.2.0)\r\n",
      "Requirement already satisfied (use --upgrade to upgrade): pytz in /Users/johnmccallum/miniconda3/envs/TidyDemoClone/lib/python3.5/site-packages (from anaconda-client->nb-anacondacloud==1.2.0)\r\n",
      "Installing collected packages: gister, pandocfilters, pandoc-attributes, notedown\r\n",
      "Successfully installed gister-1.0.23 notedown-1.5.0 pandoc-attributes-0.1.7 pandocfilters-1.3.0\r\n",
      "#\r\n",
      "# To activate this environment, use:\r\n",
      "# > source activate TidyDemoClone\r\n",
      "#\r\n",
      "# To deactivate this environment, use:\r\n",
      "# > source deactivate TidyDemoClone\r\n",
      "#\r\n",
      "\r\n",
      "(TidyWGSDemo) "
     ]
    }
   ],
   "source": [
    "conda env create  -n TidyDemoClone -f TidyWGSDemo.environment.yml"
   ]
  },
  {
   "cell_type": "code",
   "execution_count": 17,
   "metadata": {
    "collapsed": false
   },
   "outputs": [
    {
     "name": "stdout",
     "output_type": "stream",
     "text": [
      "# conda environments:\r\n",
      "#\r\n",
      "HTS                      /Users/johnmccallum/miniconda3/envs/HTS\r\n",
      "TidyDemoClone            /Users/johnmccallum/miniconda3/envs/TidyDemoClone\r\n",
      "TidyWGSDemo           *  /Users/johnmccallum/miniconda3/envs/TidyWGSDemo\r\n",
      "_build                   /Users/johnmccallum/miniconda3/envs/_build\r\n",
      "py2PCR                   /Users/johnmccallum/miniconda3/envs/py2PCR\r\n",
      "py3-r-env                /Users/johnmccallum/miniconda3/envs/py3-r-env\r\n",
      "py3RVCF                  /Users/johnmccallum/miniconda3/envs/py3RVCF\r\n",
      "py3markers               /Users/johnmccallum/miniconda3/envs/py3markers\r\n",
      "root                     /Users/johnmccallum/miniconda3\r\n",
      "\r\n",
      "(TidyWGSDemo) "
     ]
    }
   ],
   "source": [
    "conda info -e"
   ]
  }
 ],
 "metadata": {
  "anaconda-cloud": {},
  "celltoolbar": "Slideshow",
  "kernelspec": {
   "display_name": "Bash",
   "language": "bash",
   "name": "bash"
  },
  "language_info": {
   "codemirror_mode": "shell",
   "file_extension": ".sh",
   "mimetype": "text/x-sh",
   "name": "bash"
  }
 },
 "nbformat": 4,
 "nbformat_minor": 0
}
