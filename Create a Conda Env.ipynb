{
 "cells": [
  {
   "cell_type": "markdown",
   "metadata": {},
   "source": [
    "# Create a Conda Env to Run this Demo\n",
    "\n",
    "http://conda.pydata.org/docs/index.html\n",
    "\n",
    "http://conda.pydata.org/docs/_downloads/conda-cheatsheet.pdf\n",
    "\n"
   ]
  },
  {
   "cell_type": "code",
   "execution_count": 1,
   "metadata": {
    "collapsed": false
   },
   "outputs": [
    {
     "name": "stdout",
     "output_type": "stream",
     "text": [
      "/home/cfljam/miniconda3/envs/py3r-env/bin/conda\r\n"
     ]
    }
   ],
   "source": [
    "which conda"
   ]
  },
  {
   "cell_type": "markdown",
   "metadata": {},
   "source": [
    "This notebok is already running in a conda env py3r-env"
   ]
  },
  {
   "cell_type": "code",
   "execution_count": 2,
   "metadata": {
    "collapsed": false
   },
   "outputs": [
    {
     "name": "stdout",
     "output_type": "stream",
     "text": [
      "# conda environments:\r\n",
      "#\r\n",
      "bioperl                  /home/cfljam/miniconda3/envs/bioperl\r\n",
      "py27                     /home/cfljam/miniconda3/envs/py27\r\n",
      "py3r-env              *  /home/cfljam/miniconda3/envs/py3r-env\r\n",
      "root                     /home/cfljam/miniconda3\r\n",
      "\r\n"
     ]
    }
   ],
   "source": [
    "conda info -e"
   ]
  },
  {
   "cell_type": "code",
   "execution_count": null,
   "metadata": {
    "collapsed": true
   },
   "outputs": [],
   "source": []
  }
 ],
 "metadata": {
  "kernelspec": {
   "display_name": "Bash",
   "language": "bash",
   "name": "bash"
  },
  "language_info": {
   "codemirror_mode": "shell",
   "file_extension": ".sh",
   "mimetype": "text/x-sh",
   "name": "bash"
  }
 },
 "nbformat": 4,
 "nbformat_minor": 0
}
