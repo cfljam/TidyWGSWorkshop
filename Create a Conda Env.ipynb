{
 "cells": [
  {
   "cell_type": "markdown",
   "metadata": {},
   "source": [
    "# Create a Conda Env to Run this Demo\n",
    "\n",
    "http://conda.pydata.org/docs/index.html\n",
    "\n",
    "http://conda.pydata.org/docs/_downloads/conda-cheatsheet.pdf\n",
    "\n",
    "Prevously installed miniconda http://conda.pydata.org/miniconda.html with Python 3 default"
   ]
  },
  {
   "cell_type": "code",
   "execution_count": 1,
   "metadata": {
    "collapsed": false
   },
   "outputs": [
    {
     "name": "stdout",
     "output_type": "stream",
     "text": [
      "/home/cfljam/miniconda3/envs/py3r-env/bin/conda\r\n"
     ]
    }
   ],
   "source": [
    "which conda"
   ]
  },
  {
   "cell_type": "markdown",
   "metadata": {},
   "source": [
    "This notebok is already running in a conda env py3r-env"
   ]
  },
  {
   "cell_type": "code",
   "execution_count": 2,
   "metadata": {
    "collapsed": false
   },
   "outputs": [
    {
     "name": "stdout",
     "output_type": "stream",
     "text": [
      "# conda environments:\r\n",
      "#\r\n",
      "bioperl                  /home/cfljam/miniconda3/envs/bioperl\r\n",
      "py27                     /home/cfljam/miniconda3/envs/py27\r\n",
      "py3r-env              *  /home/cfljam/miniconda3/envs/py3r-env\r\n",
      "root                     /home/cfljam/miniconda3\r\n",
      "\r\n"
     ]
    }
   ],
   "source": [
    "conda info -e"
   ]
  },
  {
   "cell_type": "code",
   "execution_count": 3,
   "metadata": {
    "collapsed": false,
    "scrolled": false
   },
   "outputs": [
    {
     "name": "stdout",
     "output_type": "stream",
     "text": [
      "Fetching package metadata .................\r\n",
      "Solving package specifications: ..........\r\n",
      "\r\n",
      "Package plan for installation in environment /Users/johnmccallum/miniconda3/envs/TidyWGSDemo:\r\n",
      "\r\n",
      "The following packages will be downloaded:\r\n",
      "\r\n",
      "    package                    |            build\r\n",
      "    ---------------------------|-----------------\r\n",
      "    openssl-1.0.2j             |                0         3.0 MB\r\n",
      "    qt-5.6.0                   |                0        71.3 MB\r\n",
      "    decorator-4.0.10           |           py35_0          12 KB\r\n",
      "    entrypoints-0.2.2          |           py35_0           6 KB\r\n",
      "    markupsafe-0.23            |           py35_2          24 KB\r\n",
      "    mistune-0.7.3              |           py35_1         193 KB\r\n",
      "    ptyprocess-0.5.1           |           py35_0          19 KB\r\n",
      "    pytz-2016.7                |           py35_0         175 KB\r\n",
      "    pyyaml-3.12                |           py35_0         145 KB\r\n",
      "    pyzmq-15.4.0               |           py35_0         574 KB\r\n",
      "    requests-2.11.1            |           py35_0         662 KB\r\n",
      "    setuptools-27.2.0          |           py35_0         527 KB\r\n",
      "    simplegeneric-0.8.1        |           py35_1           7 KB\r\n",
      "    sip-4.18                   |           py35_0         219 KB\r\n",
      "    tornado-4.4.2              |           py35_0         589 KB\r\n",
      "    wcwidth-0.1.7              |           py35_0          21 KB\r\n",
      "    clyent-1.2.2               |           py35_0          15 KB\r\n",
      "    jinja2-2.8                 |           py35_1         302 KB\r\n",
      "    pickleshare-0.7.4          |           py35_0           9 KB\r\n",
      "    pip-8.1.2                  |           py35_0         1.6 MB\r\n",
      "    prompt_toolkit-1.0.3       |           py35_0         308 KB\r\n",
      "    pyqt-5.6.0                 |           py35_0         4.4 MB\r\n",
      "    python-dateutil-2.3        |           py35_0         214 KB  bioconda\r\n",
      "    terminado-0.6              |           py35_0          18 KB\r\n",
      "    traitlets-4.3.1            |           py35_0         124 KB\r\n",
      "    anaconda-client-1.5.1      |           py35_0         112 KB\r\n",
      "    ipython-5.1.0              |           py35_0         992 KB\r\n",
      "    jupyter_core-4.2.0         |           py35_0          52 KB\r\n",
      "    jupyter_client-4.4.0       |           py35_0          99 KB\r\n",
      "    nbformat-4.1.0             |           py35_0         117 KB\r\n",
      "    ipykernel-4.5.0            |           py35_0         126 KB\r\n",
      "    jupyter_console-5.0.0      |           py35_0          29 KB\r\n",
      "    notebook-4.2.3             |           py35_0         5.0 MB\r\n",
      "    qtconsole-4.2.1            |           py35_1         152 KB\r\n",
      "    widgetsnbextension-1.2.6   |           py35_0         1.1 MB\r\n",
      "    ipywidgets-5.2.2           |           py35_0          60 KB\r\n",
      "    jupyter-1.0.0              |           py35_3           3 KB\r\n",
      "    nb_anacondacloud-1.2.0     |           py35_0          23 KB\r\n",
      "    nb_conda_kernels-2.0.0     |           py35_0          30 KB\r\n",
      "    nb_conda-2.0.0             |           py35_0          28 KB\r\n",
      "    _nb_ext_conf-0.3.0         |           py35_0           1 KB\r\n",
      "    nbpresent-3.0.2            |           py35_0         463 KB\r\n",
      "    ------------------------------------------------------------\r\n",
      "                                           Total:        92.7 MB\r\n",
      "\r\n",
      "The following NEW packages will be INSTALLED:\r\n",
      "\r\n",
      "    _nb_ext_conf:       0.3.0-py35_0          \r\n",
      "    anaconda-client:    1.5.1-py35_0          \r\n",
      "    appnope:            0.1.0-py35_0          \r\n",
      "    clyent:             1.2.2-py35_0          \r\n",
      "    decorator:          4.0.10-py35_0         \r\n",
      "    entrypoints:        0.2.2-py35_0          \r\n",
      "    icu:                54.1-0                \r\n",
      "    ipykernel:          4.5.0-py35_0          \r\n",
      "    ipython:            5.1.0-py35_0          \r\n",
      "    ipython_genutils:   0.1.0-py35_0          \r\n",
      "    ipywidgets:         5.2.2-py35_0          \r\n",
      "    jinja2:             2.8-py35_1            \r\n",
      "    jsonschema:         2.5.1-py35_0          \r\n",
      "    jupyter:            1.0.0-py35_3          \r\n",
      "    jupyter_client:     4.4.0-py35_0          \r\n",
      "    jupyter_console:    5.0.0-py35_0          \r\n",
      "    jupyter_core:       4.2.0-py35_0          \r\n",
      "    markupsafe:         0.23-py35_2           \r\n",
      "    mistune:            0.7.3-py35_1          \r\n",
      "    nb_anacondacloud:   1.2.0-py35_0          \r\n",
      "    nb_conda:           2.0.0-py35_0          \r\n",
      "    nb_conda_kernels:   2.0.0-py35_0          \r\n",
      "    nbconvert:          4.2.0-py35_0          \r\n",
      "    nbformat:           4.1.0-py35_0          \r\n",
      "    nbpresent:          3.0.2-py35_0          \r\n",
      "    notebook:           4.2.3-py35_0          \r\n",
      "    openssl:            1.0.2j-0              \r\n",
      "    path.py:            8.2.1-py35_0          \r\n",
      "    pexpect:            4.0.1-py35_0          \r\n",
      "    pickleshare:        0.7.4-py35_0          \r\n",
      "    pip:                8.1.2-py35_0          \r\n",
      "    prompt_toolkit:     1.0.3-py35_0          \r\n",
      "    ptyprocess:         0.5.1-py35_0          \r\n",
      "    pygments:           2.1.3-py35_0          \r\n",
      "    pyqt:               5.6.0-py35_0          \r\n",
      "    python:             3.5.2-0               \r\n",
      "    python-dateutil:    2.3-py35_0    bioconda\r\n",
      "    python.app:         1.2-py35_4            \r\n",
      "    pytz:               2016.7-py35_0         \r\n",
      "    pyyaml:             3.12-py35_0           \r\n",
      "    pyzmq:              15.4.0-py35_0         \r\n",
      "    qt:                 5.6.0-0               \r\n",
      "    qtconsole:          4.2.1-py35_1          \r\n",
      "    readline:           6.2-2                 \r\n",
      "    requests:           2.11.1-py35_0         \r\n",
      "    setuptools:         27.2.0-py35_0         \r\n",
      "    simplegeneric:      0.8.1-py35_1          \r\n",
      "    sip:                4.18-py35_0           \r\n",
      "    six:                1.10.0-py35_0         \r\n",
      "    sqlite:             3.13.0-0              \r\n",
      "    terminado:          0.6-py35_0            \r\n",
      "    tk:                 8.5.18-0              \r\n",
      "    tornado:            4.4.2-py35_0          \r\n",
      "    traitlets:          4.3.1-py35_0          \r\n",
      "    wcwidth:            0.1.7-py35_0          \r\n",
      "    wheel:              0.29.0-py35_0         \r\n",
      "    widgetsnbextension: 1.2.6-py35_0          \r\n",
      "    xz:                 5.2.2-0               \r\n",
      "    yaml:               0.1.6-0               \r\n",
      "    zlib:               1.2.8-1       r       \r\n",
      "\r\n",
      "#\r\n",
      "# To activate this environment, use:\r\n",
      "# > source activate TidyWGSDemo\r\n",
      "#\r\n",
      "# To deactivate this environment, use:\r\n",
      "# > source deactivate TidyWGSDemo\r\n",
      "#\r\n",
      "\r\n"
     ]
    }
   ],
   "source": [
    "conda create -y -q -n TidyWGSDemo jupyter notebook"
   ]
  },
  {
   "cell_type": "markdown",
   "metadata": {},
   "source": [
    "## Activate the env"
   ]
  },
  {
   "cell_type": "code",
   "execution_count": 4,
   "metadata": {
    "collapsed": false
   },
   "outputs": [
    {
     "name": "stdout",
     "output_type": "stream",
     "text": [
      "(TidyWGSDemo) "
     ]
    }
   ],
   "source": [
    "source activate TidyWGSDemo"
   ]
  },
  {
   "cell_type": "markdown",
   "metadata": {},
   "source": [
    "## Install some R packages \n",
    "\n",
    "from the Anaconda R Repo https://anaconda.org/r/repo\n",
    "\n",
    "r-ggplot2, r-dplyr, r-data.table\n",
    "\n",
    "I have previously added in the r channel with \n",
    "\n",
    "```\n",
    "conda config --add channels r\n",
    "```"
   ]
  },
  {
   "cell_type": "code",
   "execution_count": 5,
   "metadata": {
    "collapsed": false
   },
   "outputs": [
    {
     "name": "stdout",
     "output_type": "stream",
     "text": [
      "channels:\r\n",
      "  - https://conda.anaconda.org/bcbio\r\n",
      "  - cfljam\r\n",
      "  - mittner\r\n",
      "  - bioconda\r\n",
      "  - r\r\n",
      "  - defaults\r\n",
      "\r\n",
      "anaconda_upload: yes\r\n",
      "(TidyWGSDemo) "
     ]
    }
   ],
   "source": [
    "cat ~/.condarc"
   ]
  },
  {
   "cell_type": "code",
   "execution_count": 6,
   "metadata": {
    "collapsed": false
   },
   "outputs": [
    {
     "name": "stdout",
     "output_type": "stream",
     "text": [
      "Fetching package metadata .................\r\n",
      "Solving package specifications: ..........\r\n",
      "\r\n",
      "Package plan for installation in environment /Users/johnmccallum/miniconda3/envs/TidyWGSDemo:\r\n",
      "\r\n",
      "The following packages will be downloaded:\r\n",
      "\r\n",
      "    package                    |            build\r\n",
      "    ---------------------------|-----------------\r\n",
      "    libtiff-4.0.6              |                2         738 KB\r\n",
      "    ncurses-5.9                |                8         757 KB  r\r\n",
      "    pcre-8.39                  |                0         189 KB\r\n",
      "    r-bh-1.60.0_2              |         r3.2.2_0         8.2 MB  bioconda\r\n",
      "    r-magrittr-1.5             |         r3.2.2_0         154 KB  bioconda\r\n",
      "    r-stringr-0.6.2            |               0a          71 KB  r\r\n",
      "    r-ggplot2-2.1.0            |         r3.2.2_0         1.9 MB  bioconda\r\n",
      "    ------------------------------------------------------------\r\n",
      "                                           Total:        11.9 MB\r\n",
      "\r\n",
      "The following NEW packages will be INSTALLED:\r\n",
      "\r\n",
      "    jbig:           2.1-0                     \r\n",
      "    jpeg:           8d-2              r       \r\n",
      "    libgcc:         4.8.5-1           r       \r\n",
      "    libpng:         1.6.17-0          r       \r\n",
      "    libtiff:        4.0.6-2                   \r\n",
      "    libxml2:        2.9.2-1           r       \r\n",
      "    ncurses:        5.9-8             r       \r\n",
      "    pcre:           8.39-0                    \r\n",
      "    r:              3.2.2-0           r       \r\n",
      "    r-assertthat:   0.1-r3.2.2_2a     r       \r\n",
      "    r-base:         3.2.2-0           r       \r\n",
      "    r-bh:           1.60.0_2-r3.2.2_0 bioconda\r\n",
      "    r-boot:         1.3_17-r3.2.2_0a  r       \r\n",
      "    r-chron:        2.3_47-r3.2.2_0a  r       \r\n",
      "    r-class:        7.3_14-r3.2.2_0a  r       \r\n",
      "    r-cluster:      2.0.3-r3.2.2_0a   r       \r\n",
      "    r-codetools:    0.2_14-r3.2.2_0a  r       \r\n",
      "    r-colorspace:   1.2_6-r3.2.2_0a   r       \r\n",
      "    r-data.table:   1.9.6-r3.2.2_0a   r       \r\n",
      "    r-dbi:          0.3.1-r3.2.2_3a   r       \r\n",
      "    r-dichromat:    2.0_0-r3.2.2_3a   r       \r\n",
      "    r-digest:       0.6.9-r3.2.2_0    bioconda\r\n",
      "    r-dplyr:        0.4.3-r3.2.2_0a   r       \r\n",
      "    r-foreign:      0.8_66-r3.2.2_0a  r       \r\n",
      "    r-ggplot2:      2.1.0-r3.2.2_0    bioconda\r\n",
      "    r-gtable:       0.1.2-r3.2.2_3a   r       \r\n",
      "    r-kernsmooth:   2.23_15-r3.2.2_0a r       \r\n",
      "    r-labeling:     0.3-r3.2.2_2a     r       \r\n",
      "    r-lattice:      0.20_33-r3.2.2_0a r       \r\n",
      "    r-lazyeval:     0.1.10-r3.2.2_3a  r       \r\n",
      "    r-magrittr:     1.5-r3.2.2_0      bioconda\r\n",
      "    r-mass:         7.3_45-r3.2.2_0a  r       \r\n",
      "    r-matrix:       1.2_2-r3.2.2_0a   r       \r\n",
      "    r-mgcv:         1.8_9-r3.2.2_0a   r       \r\n",
      "    r-munsell:      0.4.2-r3.2.2_2a   r       \r\n",
      "    r-nlme:         3.1_122-r3.2.2_0a r       \r\n",
      "    r-nnet:         7.3_11-r3.2.2_0a  r       \r\n",
      "    r-plyr:         1.8.3-r3.2.2_0a   r       \r\n",
      "    r-r6:           2.1.1-r3.2.2_0a   r       \r\n",
      "    r-rcolorbrewer: 1.1_2-r3.2.2_3a   r       \r\n",
      "    r-rcpp:         0.12.2-r3.2.2_0a  r       \r\n",
      "    r-recommended:  3.2.2-r3.2.2_0    r       \r\n",
      "    r-reshape2:     1.4.1-r3.2.2_2a   r       \r\n",
      "    r-rpart:        4.1_10-r3.2.2_0a  r       \r\n",
      "    r-scales:       0.3.0-r3.2.2_0a   r       \r\n",
      "    r-spatial:      7.3_11-r3.2.2_0a  r       \r\n",
      "    r-stringr:      0.6.2-0a          r       \r\n",
      "    r-survival:     2.38_3-r3.2.2_0a  r       \r\n",
      "\r\n",
      "(TidyWGSDemo) "
     ]
    }
   ],
   "source": [
    "conda install -y -q r-dplyr r-ggplot2 r-data.table"
   ]
  },
  {
   "cell_type": "markdown",
   "metadata": {},
   "source": [
    "install some vcf stuff from Bioconda channel http://bioconda.github.io/"
   ]
  },
  {
   "cell_type": "code",
   "execution_count": 7,
   "metadata": {
    "collapsed": false
   },
   "outputs": [
    {
     "name": "stdout",
     "output_type": "stream",
     "text": [
      "Fetching package metadata .................\r\n",
      "Solving package specifications: ..........\r\n",
      "\r\n",
      "Package plan for installation in environment /Users/johnmccallum/miniconda3/envs/TidyWGSDemo:\r\n",
      "\r\n",
      "The following NEW packages will be INSTALLED:\r\n",
      "\r\n",
      "    perl-threaded:     5.22.0-10   bioconda\r\n",
      "    perl-vcftools-vcf: 0.953-3     bioconda\r\n",
      "    vcflib:            1.0.0_rc0-0 bioconda\r\n",
      "    vcftools:          0.1.14-3    bioconda\r\n",
      "\r\n",
      "(TidyWGSDemo) "
     ]
    }
   ],
   "source": [
    "conda install -y -q vcflib vcftools"
   ]
  },
  {
   "cell_type": "markdown",
   "metadata": {},
   "source": [
    "## Install some Python Tools using Pip\n",
    "\n",
    "- a gister app for gisting\n",
    "- the notedown app for converting notebooks to markdown and vice versa"
   ]
  },
  {
   "cell_type": "code",
   "execution_count": 7,
   "metadata": {
    "collapsed": false
   },
   "outputs": [
    {
     "name": "stdout",
     "output_type": "stream",
     "text": [
      "Collecting gister\r\n",
      "Requirement already satisfied (use --upgrade to upgrade): requests in /Users/johnmccallum/miniconda3/envs/TidyWGSDemo/lib/python3.5/site-packages (from gister)\r\n",
      "Installing collected packages: gister\r\n",
      "Successfully installed gister-1.0.23\r\n",
      "(TidyWGSDemo) "
     ]
    }
   ],
   "source": [
    "pip install gister"
   ]
  },
  {
   "cell_type": "code",
   "execution_count": 9,
   "metadata": {
    "collapsed": false
   },
   "outputs": [
    {
     "name": "stdout",
     "output_type": "stream",
     "text": [
      "Collecting notedown\r\n",
      "  Using cached notedown-1.5.0-py3-none-any.whl\r\n",
      "Requirement already satisfied (use --upgrade to upgrade): six in /Users/johnmccallum/miniconda3/envs/TidyWGSDemo/lib/python3.5/site-packages (from notedown)\r\n",
      "Requirement already satisfied (use --upgrade to upgrade): pandoc-attributes in /Users/johnmccallum/miniconda3/envs/TidyWGSDemo/lib/python3.5/site-packages (from notedown)\r\n",
      "Requirement already satisfied (use --upgrade to upgrade): ipython in /Users/johnmccallum/miniconda3/envs/TidyWGSDemo/lib/python3.5/site-packages (from notedown)\r\n",
      "Requirement already satisfied (use --upgrade to upgrade): nbconvert in /Users/johnmccallum/miniconda3/envs/TidyWGSDemo/lib/python3.5/site-packages (from notedown)\r\n",
      "Requirement already satisfied (use --upgrade to upgrade): nbformat in /Users/johnmccallum/miniconda3/envs/TidyWGSDemo/lib/python3.5/site-packages (from notedown)\r\n",
      "Requirement already satisfied (use --upgrade to upgrade): pandocfilters in /Users/johnmccallum/miniconda3/envs/TidyWGSDemo/lib/python3.5/site-packages (from pandoc-attributes->notedown)\r\n",
      "Installing collected packages: notedown\r\n",
      "Successfully installed notedown-1.5.0\r\n",
      "(TidyWGSDemo) "
     ]
    }
   ],
   "source": [
    "pip install notedown"
   ]
  },
  {
   "cell_type": "markdown",
   "metadata": {},
   "source": [
    "## Check Whats in Our Env"
   ]
  },
  {
   "cell_type": "code",
   "execution_count": 12,
   "metadata": {
    "collapsed": false
   },
   "outputs": [
    {
     "name": "stdout",
     "output_type": "stream",
     "text": [
      "# packages in environment at /Users/johnmccallum/miniconda3/envs/TidyWGSDemo:\r\n",
      "#\r\n",
      "_nb_ext_conf              0.3.0                    py35_0  \r\n",
      "anaconda-client           1.5.1                    py35_0  \r\n",
      "appnope                   0.1.0                    py35_0  \r\n",
      "clyent                    1.2.2                    py35_0  \r\n",
      "decorator                 4.0.10                   py35_0  \r\n",
      "entrypoints               0.2.2                    py35_0  \r\n",
      "gister                    1.0.23                    <pip>\r\n",
      "icu                       54.1                          0  \r\n",
      "ipykernel                 4.5.0                    py35_0  \r\n",
      "ipython                   5.1.0                    py35_0  \r\n",
      "ipython_genutils          0.1.0                    py35_0  \r\n",
      "ipywidgets                5.2.2                    py35_0  \r\n",
      "jbig                      2.1                           0  \r\n",
      "jinja2                    2.8                      py35_1  \r\n",
      "jpeg                      8d                            2    r\r\n",
      "jsonschema                2.5.1                    py35_0  \r\n",
      "jupyter                   1.0.0                    py35_3  \r\n",
      "jupyter_client            4.4.0                    py35_0  \r\n",
      "jupyter_console           5.0.0                    py35_0  \r\n",
      "jupyter_core              4.2.0                    py35_0  \r\n",
      "libgcc                    4.8.5                         1    r\r\n",
      "libpng                    1.6.17                        0    r\r\n",
      "libtiff                   4.0.6                         2  \r\n",
      "libxml2                   2.9.2                         1    r\r\n",
      "markupsafe                0.23                     py35_2  \r\n",
      "mistune                   0.7.3                    py35_1  \r\n",
      "nb_anacondacloud          1.2.0                    py35_0  \r\n",
      "nb_conda                  2.0.0                    py35_0  \r\n",
      "nb_conda_kernels          2.0.0                    py35_0  \r\n",
      "nbconvert                 4.2.0                    py35_0  \r\n",
      "nbformat                  4.1.0                    py35_0  \r\n",
      "nbpresent                 3.0.2                    py35_0  \r\n",
      "ncurses                   5.9                           8    r\r\n",
      "notebook                  4.2.3                    py35_0  \r\n",
      "notedown                  1.5.0                     <pip>\r\n",
      "openssl                   1.0.2j                        0  \r\n",
      "pandoc-attributes         0.1.7                     <pip>\r\n",
      "pandocfilters             1.3.0                     <pip>\r\n",
      "path.py                   8.2.1                    py35_0  \r\n",
      "pcre                      8.39                          0  \r\n",
      "perl-threaded             5.22.0                       10    bioconda\r\n",
      "perl-vcftools-vcf         0.953                         3    bioconda\r\n",
      "pexpect                   4.0.1                    py35_0  \r\n",
      "pickleshare               0.7.4                    py35_0  \r\n",
      "pip                       8.1.2                    py35_0  \r\n",
      "prompt_toolkit            1.0.3                    py35_0  \r\n",
      "ptyprocess                0.5.1                    py35_0  \r\n",
      "pygments                  2.1.3                    py35_0  \r\n",
      "pyqt                      5.6.0                    py35_0  \r\n",
      "python                    3.5.2                         0  \r\n",
      "python-dateutil           2.3                      py35_0    bioconda\r\n",
      "python.app                1.2                      py35_4  \r\n",
      "pytz                      2016.7                   py35_0  \r\n",
      "pyyaml                    3.12                     py35_0  \r\n",
      "pyzmq                     15.4.0                   py35_0  \r\n",
      "qt                        5.6.0                         0  \r\n",
      "qtconsole                 4.2.1                    py35_1  \r\n",
      "r                         3.2.2                         0    r\r\n",
      "r-assertthat              0.1                   r3.2.2_2a    r\r\n",
      "r-base                    3.2.2                         0    r\r\n",
      "r-bh                      1.60.0_2               r3.2.2_0    bioconda\r\n",
      "r-boot                    1.3_17                r3.2.2_0a    r\r\n",
      "r-chron                   2.3_47                r3.2.2_0a    r\r\n",
      "r-class                   7.3_14                r3.2.2_0a    r\r\n",
      "r-cluster                 2.0.3                 r3.2.2_0a    r\r\n",
      "r-codetools               0.2_14                r3.2.2_0a    r\r",
      "\r\n",
      "r-colorspace              1.2_6                 r3.2.2_0a    r\r\n",
      "r-data.table              1.9.6                 r3.2.2_0a    r\r\n",
      "r-dbi                     0.3.1                 r3.2.2_3a    r\r\n",
      "r-dichromat               2.0_0                 r3.2.2_3a    r\r\n",
      "r-digest                  0.6.9                  r3.2.2_0    bioconda\r\n",
      "r-dplyr                   0.4.3                 r3.2.2_0a    r\r\n",
      "r-foreign                 0.8_66                r3.2.2_0a    r\r\n",
      "r-ggplot2                 2.1.0                  r3.2.2_0    bioconda\r\n",
      "r-gtable                  0.1.2                 r3.2.2_3a    r\r\n",
      "r-kernsmooth              2.23_15               r3.2.2_0a    r\r\n",
      "r-labeling                0.3                   r3.2.2_2a    r\r\n",
      "r-lattice                 0.20_33               r3.2.2_0a    r\r\n",
      "r-lazyeval                0.1.10                r3.2.2_3a    r\r\n",
      "r-magrittr                1.5                    r3.2.2_0    bioconda\r\n",
      "r-mass                    7.3_45                r3.2.2_0a    r\r\n",
      "r-matrix                  1.2_2                 r3.2.2_0a    r\r\n",
      "r-mgcv                    1.8_9                 r3.2.2_0a    r\r\n",
      "r-munsell                 0.4.2                 r3.2.2_2a    r\r\n",
      "r-nlme                    3.1_122               r3.2.2_0a    r\r\n",
      "r-nnet                    7.3_11                r3.2.2_0a    r\r\n",
      "r-plyr                    1.8.3                 r3.2.2_0a    r\r\n",
      "r-r6                      2.1.1                 r3.2.2_0a    r\r\n",
      "r-rcolorbrewer            1.1_2                 r3.2.2_3a    r\r\n",
      "r-rcpp                    0.12.2                r3.2.2_0a    r\r\n",
      "r-recommended             3.2.2                  r3.2.2_0    r\r\n",
      "r-reshape2                1.4.1                 r3.2.2_2a    r\r\n",
      "r-rpart                   4.1_10                r3.2.2_0a    r\r\n",
      "r-scales                  0.3.0                 r3.2.2_0a    r\r\n",
      "r-spatial                 7.3_11                r3.2.2_0a    r\r\n",
      "r-stringr                 0.6.2                        0a    r\r\n",
      "r-survival                2.38_3                r3.2.2_0a    r\r\n",
      "readline                  6.2                           2  \r\n",
      "requests                  2.11.1                   py35_0  \r\n",
      "setuptools                27.2.0                   py35_0  \r\n",
      "simplegeneric             0.8.1                    py35_1  \r\n",
      "sip                       4.18                     py35_0  \r\n",
      "six                       1.10.0                   py35_0  \r\n",
      "sqlite                    3.13.0                        0  \r\n",
      "terminado                 0.6                      py35_0  \r\n",
      "tk                        8.5.18                        0  \r\n",
      "tornado                   4.4.2                    py35_0  \r\n",
      "traitlets                 4.3.1                    py35_0  \r\n",
      "vcflib                    1.0.0_rc0                     0    bioconda\r\n",
      "vcftools                  0.1.14                        3    bioconda\r\n",
      "wcwidth                   0.1.7                    py35_0  \r\n",
      "wheel                     0.29.0                   py35_0  \r\n",
      "widgetsnbextension        1.2.6                    py35_0  \r\n",
      "xz                        5.2.2                         0  \r\n",
      "yaml                      0.1.6                         0  \r\n",
      "zlib                      1.2.8                         1    r\r\n",
      "(TidyWGSDemo) "
     ]
    }
   ],
   "source": [
    "conda list"
   ]
  },
  {
   "cell_type": "markdown",
   "metadata": {},
   "source": [
    "## Create Environment Files\n",
    "\n",
    "so we can recreate the env. There seem to be two ways to do this\n",
    "\n",
    "### This way is best for same Os"
   ]
  },
  {
   "cell_type": "code",
   "execution_count": 10,
   "metadata": {
    "collapsed": false
   },
   "outputs": [
    {
     "name": "stdout",
     "output_type": "stream",
     "text": [
      "(TidyWGSDemo) "
     ]
    }
   ],
   "source": [
    "conda list --explicit > TidyWGSDemo.requirements.txt"
   ]
  },
  {
   "cell_type": "code",
   "execution_count": 11,
   "metadata": {
    "collapsed": false
   },
   "outputs": [
    {
     "name": "stdout",
     "output_type": "stream",
     "text": [
      "# This file may be used to create an environment using:\r\n",
      "# $ conda create --name <env> --file <this file>\r\n",
      "# platform: osx-64\r\n",
      "@EXPLICIT\r\n",
      "https://repo.continuum.io/pkgs/free/osx-64/_nb_ext_conf-0.3.0-py35_0.tar.bz2\r\n",
      "https://repo.continuum.io/pkgs/free/osx-64/anaconda-client-1.5.1-py35_0.tar.bz2\r\n",
      "https://repo.continuum.io/pkgs/free/osx-64/appnope-0.1.0-py35_0.tar.bz2\r\n",
      "https://repo.continuum.io/pkgs/free/osx-64/clyent-1.2.2-py35_0.tar.bz2\r\n",
      "https://repo.continuum.io/pkgs/free/osx-64/decorator-4.0.10-py35_0.tar.bz2\r\n",
      "https://repo.continuum.io/pkgs/free/osx-64/entrypoints-0.2.2-py35_0.tar.bz2\r\n",
      "(TidyWGSDemo) "
     ]
    }
   ],
   "source": [
    "head TidyWGSDemo.requirements.txt"
   ]
  },
  {
   "cell_type": "markdown",
   "metadata": {},
   "source": [
    "### This way is cross-platform"
   ]
  },
  {
   "cell_type": "code",
   "execution_count": 13,
   "metadata": {
    "collapsed": false
   },
   "outputs": [
    {
     "name": "stdout",
     "output_type": "stream",
     "text": [
      "(TidyWGSDemo) "
     ]
    }
   ],
   "source": [
    "conda env export > TidyWGSDemo.environment.yml"
   ]
  },
  {
   "cell_type": "code",
   "execution_count": 15,
   "metadata": {
    "collapsed": false
   },
   "outputs": [
    {
     "name": "stdout",
     "output_type": "stream",
     "text": [
      "name: TidyWGSDemo\r\n",
      "channels: !!python/tuple\r\n",
      "- https://conda.anaconda.org/bcbio\r\n",
      "- cfljam\r\n",
      "- mittner\r\n",
      "- bioconda\r\n",
      "- r\r\n",
      "- defaults\r\n",
      "dependencies:\r\n",
      "- _nb_ext_conf=0.3.0=py35_0\r\n",
      "- anaconda-client=1.5.1=py35_0\r\n",
      "- appnope=0.1.0=py35_0\r\n",
      "- bioconda::perl-threaded=5.22.0=10\r\n",
      "- bioconda::perl-vcftools-vcf=0.953=3\r\n",
      "- bioconda::python-dateutil=2.3=py35_0\r\n",
      "- bioconda::r-bh=1.60.0_2=r3.2.2_0\r\n",
      "- bioconda::r-digest=0.6.9=r3.2.2_0\r\n",
      "- bioconda::r-ggplot2=2.1.0=r3.2.2_0\r\n",
      "- bioconda::r-magrittr=1.5=r3.2.2_0\r\n",
      "- bioconda::vcflib=1.0.0_rc0=0\r\n",
      "(TidyWGSDemo) "
     ]
    }
   ],
   "source": [
    "head -n 20 TidyWGSDemo.environment.yml"
   ]
  },
  {
   "cell_type": "markdown",
   "metadata": {},
   "source": [
    "## Build a Fresh Env from the Requirements File"
   ]
  },
  {
   "cell_type": "code",
   "execution_count": 16,
   "metadata": {
    "collapsed": false
   },
   "outputs": [
    {
     "name": "stdout",
     "output_type": "stream",
     "text": [
      "Using Anaconda Cloud api site https://api.anaconda.org\r\n",
      "Fetching package metadata .................\r\n",
      "Solving package specifications: ..........\r\n",
      "Linking packages ...\r\n",
      "[                    ]|                                                   |   0%\r",
      "[icu                 ]|                                                   |   0%\r",
      "[jpeg                ]|                                                   |   1%\r",
      "[libpng              ]|#                                                  |   3%\r",
      "[perl-threaded       ]|##                                                 |   5%\r",
      "[sqlite              ]|###                                                |   7%\r",
      "[vcflib              ]|####                                               |   8%\r",
      "[yaml                ]|#####                                              |  10%\r",
      "[libtiff             ]|######                                             |  12%\r",
      "[ncurses             ]|#######                                            |  14%\r",
      "[perl-vcftools-vcf   ]|########                                           |  16%\r",
      "[qt                  ]|#########                                          |  17%\r",
      "[decorator           ]|##########                                         |  19%\r",
      "[ipython_genutils    ]|##########                                         |  21%\r",
      "[markupsafe          ]|###########                                        |  23%\r",
      "[path.py             ]|############                                       |  25%\r",
      "[pygments            ]|#############                                      |  26%\r",
      "[pytz                ]|##############                                     |  28%\r",
      "[pyzmq               ]|###############                                    |  30%\r",
      "[requests            ]|################                                   |  32%\r",
      "[simplegeneric       ]|#################                                  |  33%\r",
      "[six                 ]|##################                                 |  35%\r",
      "[vcftools            ]|###################                                |  37%\r",
      "[wheel               ]|####################                               |  39%\r",
      "[jinja2              ]|####################                               |  41%\r",
      "[pickleshare         ]|#####################                              |  42%\r",
      "[prompt_toolkit      ]|######################                             |  44%\r",
      "[python-dateutil     ]|#######################                            |  46%\r",
      "[terminado           ]|########################                           |  48%\r",
      "[anaconda-client     ]|#########################                          |  50%\r",
      "[jupyter_core        ]|##########################                         |  51%\r",
      "[nbformat            ]|###########################                        |  53%\r",
      "[nbconvert           ]|############################                       |  55%\r",
      "[notebook            ]|#############################                      |  57%\r",
      "[widgetsnbextension  ]|##############################                     |  58%\r",
      "[jupyter             ]|##############################                     |  60%\r",
      "[nb_conda_kernels    ]|###############################                    |  62%\r",
      "[_nb_ext_conf        ]|################################                   |  64%\r",
      "[r                   ]|#################################                  |  66%\r",
      "[r-boot              ]|##################################                 |  67%\r",
      "[r-cluster           ]|###################################                |  69%\r",
      "[r-colorspace        ]|####################################               |  71%\r",
      "[r-dichromat         ]|#####################################              |  73%\r",
      "[r-foreign           ]|######################################             |  75%\r",
      "[r-kernsmooth        ]|#######################################            |  76%\r",
      "[r-lattice           ]|########################################           |  78%\r",
      "[r-magrittr          ]|########################################           |  80%\r",
      "[r-nnet              ]|#########################################          |  82%\r",
      "[r-rcolorbrewer      ]|##########################################         |  83%\r",
      "[r-rpart             ]|###########################################        |  85%\r",
      "[r-stringr           ]|############################################       |  87%\r",
      "[r-class             ]|#############################################      |  89%\r",
      "[r-dplyr             ]|##############################################     |  91%\r",
      "[r-munsell           ]|###############################################    |  92%\r",
      "[r-plyr              ]|################################################   |  94%\r",
      "[r-reshape2          ]|#################################################  |  96%\r",
      "[r-ggplot2           ]|################################################## |  98%\r",
      "[      COMPLETE      ]|###################################################| 100%\r",
      "\r\n",
      "Collecting gister==1.0.23\r\n",
      "Requirement already satisfied (use --upgrade to upgrade): ipython-genutils==0.1.0 in /Users/johnmccallum/miniconda3/envs/TidyDemoClone/lib/python3.5/site-packages\r\n",
      "Requirement already satisfied (use --upgrade to upgrade): jupyter-client==4.4.0 in /Users/johnmccallum/miniconda3/envs/TidyDemoClone/lib/python3.5/site-packages\r\n",
      "Requirement already satisfied (use --upgrade to upgrade): jupyter-console==5.0.0 in /Users/johnmccallum/miniconda3/envs/TidyDemoClone/lib/python3.5/site-packages\r\n",
      "Requirement already satisfied (use --upgrade to upgrade): jupyter-core==4.2.0 in /Users/johnmccallum/miniconda3/envs/TidyDemoClone/lib/python3.5/site-packages\r\n",
      "Requirement already satisfied (use --upgrade to upgrade): nb-anacondacloud==1.2.0 in /Users/johnmccallum/miniconda3/envs/TidyDemoClone/lib/python3.5/site-packages\r\n",
      "Requirement already satisfied (use --upgrade to upgrade): nb-conda==2.0.0 in /Users/johnmccallum/miniconda3/envs/TidyDemoClone/lib/python3.5/site-packages\r\n",
      "Requirement already satisfied (use --upgrade to upgrade): nb-conda-kernels==2.0.0 in /Users/johnmccallum/miniconda3/envs/TidyDemoClone/lib/python3.5/site-packages\r\n",
      "Collecting notedown==1.5.0\r\n",
      "  Using cached notedown-1.5.0-py3-none-any.whl\r\n",
      "Collecting pandoc-attributes==0.1.7\r\n",
      "Collecting pandocfilters==1.3.0\r\n",
      "Requirement already satisfied (use --upgrade to upgrade): prompt-toolkit==1.0.3 in /Users/johnmccallum/miniconda3/envs/TidyDemoClone/lib/python3.5/site-packages\r\n",
      "Requirement already satisfied (use --upgrade to upgrade): requests in /Users/johnmccallum/miniconda3/envs/TidyDemoClone/lib/python3.5/site-packages (from gister==1.0.23)\r\n",
      "Requirement already satisfied (use --upgrade to upgrade): anaconda-client in /Users/johnmccallum/miniconda3/envs/TidyDemoClone/lib/python3.5/site-packages (from nb-anacondacloud==1.2.0)\r\n",
      "Requirement already satisfied (use --upgrade to upgrade): ipython in /Users/johnmccallum/miniconda3/envs/TidyDemoClone/lib/python3.5/site-packages (from notedown==1.5.0)\r\n",
      "Requirement already satisfied (use --upgrade to upgrade): six in /Users/johnmccallum/miniconda3/envs/TidyDemoClone/lib/python3.5/site-packages (from notedown==1.5.0)\r\n",
      "Requirement already satisfied (use --upgrade to upgrade): nbformat in /Users/johnmccallum/miniconda3/envs/TidyDemoClone/lib/python3.5/site-packages (from notedown==1.5.0)\r\n",
      "Requirement already satisfied (use --upgrade to upgrade): nbconvert in /Users/johnmccallum/miniconda3/envs/TidyDemoClone/lib/python3.5/site-packages (from notedown==1.5.0)\r\n",
      "Requirement already satisfied (use --upgrade to upgrade): wcwidth in /Users/johnmccallum/miniconda3/envs/TidyDemoClone/lib/python3.5/site-packages (from prompt-toolkit==1.0.3)\r\n",
      "Requirement already satisfied (use --upgrade to upgrade): clyent in /Users/johnmccallum/miniconda3/envs/TidyDemoClone/lib/python3.5/site-packages (from anaconda-client->nb-anacondacloud==1.2.0)\r\n",
      "Requirement already satisfied (use --upgrade to upgrade): pyyaml in /Users/johnmccallum/miniconda3/envs/TidyDemoClone/lib/python3.5/site-packages (from anaconda-client->nb-anacondacloud==1.2.0)\r\n",
      "Requirement already satisfied (use --upgrade to upgrade): python-dateutil in /Users/johnmccallum/miniconda3/envs/TidyDemoClone/lib/python3.5/site-packages/python_dateutil-2.3-py3.5.egg (from anaconda-client->nb-anacondacloud==1.2.0)\r\n",
      "Requirement already satisfied (use --upgrade to upgrade): pytz in /Users/johnmccallum/miniconda3/envs/TidyDemoClone/lib/python3.5/site-packages (from anaconda-client->nb-anacondacloud==1.2.0)\r\n",
      "Installing collected packages: gister, pandocfilters, pandoc-attributes, notedown\r\n",
      "Successfully installed gister-1.0.23 notedown-1.5.0 pandoc-attributes-0.1.7 pandocfilters-1.3.0\r\n",
      "#\r\n",
      "# To activate this environment, use:\r\n",
      "# > source activate TidyDemoClone\r\n",
      "#\r\n",
      "# To deactivate this environment, use:\r\n",
      "# > source deactivate TidyDemoClone\r\n",
      "#\r\n",
      "\r\n",
      "(TidyWGSDemo) "
     ]
    }
   ],
   "source": [
    "conda env create  -n TidyDemoClone -f TidyWGSDemo.environment.yml"
   ]
  },
  {
   "cell_type": "code",
   "execution_count": 17,
   "metadata": {
    "collapsed": false
   },
   "outputs": [
    {
     "name": "stdout",
     "output_type": "stream",
     "text": [
      "# conda environments:\r\n",
      "#\r\n",
      "HTS                      /Users/johnmccallum/miniconda3/envs/HTS\r\n",
      "TidyDemoClone            /Users/johnmccallum/miniconda3/envs/TidyDemoClone\r\n",
      "TidyWGSDemo           *  /Users/johnmccallum/miniconda3/envs/TidyWGSDemo\r\n",
      "_build                   /Users/johnmccallum/miniconda3/envs/_build\r\n",
      "py2PCR                   /Users/johnmccallum/miniconda3/envs/py2PCR\r\n",
      "py3-r-env                /Users/johnmccallum/miniconda3/envs/py3-r-env\r\n",
      "py3RVCF                  /Users/johnmccallum/miniconda3/envs/py3RVCF\r\n",
      "py3markers               /Users/johnmccallum/miniconda3/envs/py3markers\r\n",
      "root                     /Users/johnmccallum/miniconda3\r\n",
      "\r\n",
      "(TidyWGSDemo) "
     ]
    }
   ],
   "source": [
    "conda info -e"
   ]
  }
 ],
 "metadata": {
  "kernelspec": {
   "display_name": "Bash",
   "language": "bash",
   "name": "bash"
  },
  "language_info": {
   "codemirror_mode": "shell",
   "file_extension": ".sh",
   "mimetype": "text/x-sh",
   "name": "bash"
  }
 },
 "nbformat": 4,
 "nbformat_minor": 0
}
