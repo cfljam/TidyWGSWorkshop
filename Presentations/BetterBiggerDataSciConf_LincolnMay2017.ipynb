{
 "cells": [
  {
   "cell_type": "markdown",
   "metadata": {
    "slideshow": {
     "slide_type": "slide"
    }
   },
   "source": [
    "# Better not Bigger: Thoughts on Foundation Data Science in Biology\n",
    "\n",
    "John McCallum  john.mccallum@plantandfood.co.nz \n",
    "\n",
    "https://github.com/cfljam/TidyWGSWorkshop\n",
    "\n",
    "| |  |\n",
    "|---|---|\n",
    "| ![](http://www.aquaculture.org.nz/wp-content/uploads/2011/06/plant-and-food-logo.jpg)  |   |"
   ]
  },
  {
   "cell_type": "code",
   "execution_count": null,
   "metadata": {
    "collapsed": true
   },
   "outputs": [],
   "source": []
  }
 ],
 "metadata": {
  "celltoolbar": "Slideshow",
  "kernelspec": {
   "display_name": "TidyWGS_PY3.5",
   "language": "python",
   "name": "tidywgs_py3.5"
  },
  "language_info": {
   "codemirror_mode": {
    "name": "ipython",
    "version": 3
   },
   "file_extension": ".py",
   "mimetype": "text/x-python",
   "name": "python",
   "nbconvert_exporter": "python",
   "pygments_lexer": "ipython3",
   "version": "3.5.3"
  }
 },
 "nbformat": 4,
 "nbformat_minor": 2
}
