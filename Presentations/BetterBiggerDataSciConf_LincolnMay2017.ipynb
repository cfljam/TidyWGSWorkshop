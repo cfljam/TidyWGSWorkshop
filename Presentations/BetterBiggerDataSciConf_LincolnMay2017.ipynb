{
 "cells": [
  {
   "cell_type": "markdown",
   "metadata": {
    "slideshow": {
     "slide_type": "slide"
    }
   },
   "source": [
    "# Better not Bigger: Thoughts on Foundation Data Science in Biology\n",
    "\n",
    "John McCallum  john.mccallum@plantandfood.co.nz \n",
    "\n",
    "https://github.com/cfljam/TidyWGSWorkshop\n",
    "\n",
    "| |  |\n",
    "|---|---|\n",
    "| ![](http://www.aquaculture.org.nz/wp-content/uploads/2011/06/plant-and-food-logo.jpg)  |   |"
   ]
  },
  {
   "cell_type": "markdown",
   "metadata": {
    "slideshow": {
     "slide_type": "slide"
    }
   },
   "source": [
    "![](https://photos.smugmug.com/Philippines/Mountain-Province-Philippines/i-PLkk2V5/0/2e640df2/O/P1070080rw%20web.jpg)"
   ]
  },
  {
   "cell_type": "markdown",
   "metadata": {
    "slideshow": {
     "slide_type": "slide"
    }
   },
   "source": [
    "| ![](https://avatars2.githubusercontent.com/u/6392739?v=3&s=400)  | ![](http://surf8.blue/wordpress/wp-content/uploads/2015/02/ggplot2-official-hexbin-logo.png)  |\n",
    "|---|---|\n",
    "| ![](https://www.iconexperience.com/_img/o_collection_png/green_dark_grey/256x256/plain/table.png)  |  ![](https://avatars3.githubusercontent.com/u/7388996?v=3&s=200) |"
   ]
  },
  {
   "cell_type": "code",
   "execution_count": 4,
   "metadata": {
    "slideshow": {
     "slide_type": "slide"
    }
   },
   "outputs": [
    {
     "name": "stdout",
     "output_type": "stream",
     "text": [
      "# conda environments:\n",
      "#\n",
      "MyR                      /Users/johnmccallum/anaconda3/envs/MyR\n",
      "TidyWGS               *  /Users/johnmccallum/anaconda3/envs/TidyWGS\n",
      "root                     /Users/johnmccallum/anaconda3\n",
      "\n",
      "# packages in environment at /Users/johnmccallum/anaconda3/envs/TidyWGS:\n",
      "#\n",
      "appdirs                   1.4.3                     <pip>\n",
      "appnope                   0.1.0                    py35_0  \n",
      "blas                      1.1                    openblas    conda-forge\n",
      "bleach                    2.0.0                     <pip>\n",
      "bleach                    1.4.2                    py35_0    bioconda\n",
      "bokeh                     0.12.5                   py35_2    conda-forge\n",
      "brewer2mpl                1.4.1                     <pip>\n",
      "bwa                       0.7.15                        1    bioconda\n"
     ]
    }
   ],
   "source": [
    "%%bash\n",
    "conda info -e\n",
    "conda list | head"
   ]
  },
  {
   "cell_type": "markdown",
   "metadata": {
    "slideshow": {
     "slide_type": "slide"
    }
   },
   "source": [
    "# Ipynb==JSON==web data"
   ]
  },
  {
   "cell_type": "code",
   "execution_count": 5,
   "metadata": {},
   "outputs": [
    {
     "name": "stdout",
     "output_type": "stream",
     "text": [
      "{\r\n",
      " \"cells\": [\r\n",
      "  {\r\n",
      "   \"cell_type\": \"markdown\",\r\n",
      "   \"metadata\": {\r\n",
      "    \"slideshow\": {\r\n",
      "     \"slide_type\": \"slide\"\r\n",
      "    }\r\n",
      "   },\r\n",
      "   \"source\": [\r\n"
     ]
    }
   ],
   "source": [
    "! head ./BetterBiggerDataSciConf_LincolnMay2017.ipynb"
   ]
  },
  {
   "cell_type": "markdown",
   "metadata": {
    "slideshow": {
     "slide_type": "slide"
    }
   },
   "source": [
    "# Github rendering"
   ]
  },
  {
   "cell_type": "code",
   "execution_count": null,
   "metadata": {
    "collapsed": true
   },
   "outputs": [],
   "source": [
    "https://github.com/cfljam/TidyWGSWorkshop/blob/master/Presentations/BetterBiggerDataSciConf_LincolnMay2017.ipynb"
   ]
  },
  {
   "cell_type": "markdown",
   "metadata": {},
   "source": [
    "[Rendered at NBViewer as a presentation](https://nbviewer.jupyter.org/format/slides/github/cfljam/TidyWGSWorkshop/blob/master/Presentations/BetterBiggerDataSciConf_LincolnMay2017.ipynb#/)"
   ]
  }
 ],
 "metadata": {
  "celltoolbar": "Slideshow",
  "kernelspec": {
   "display_name": "TidyWGS_PY3.5",
   "language": "python",
   "name": "tidywgs_py3.5"
  },
  "language_info": {
   "codemirror_mode": {
    "name": "ipython",
    "version": 3
   },
   "file_extension": ".py",
   "mimetype": "text/x-python",
   "name": "python",
   "nbconvert_exporter": "python",
   "pygments_lexer": "ipython3",
   "version": "3.5.3"
  },
  "livereveal": {
   "theme": "sky",
   "transition": "zoom"
  }
 },
 "nbformat": 4,
 "nbformat_minor": 2
}
